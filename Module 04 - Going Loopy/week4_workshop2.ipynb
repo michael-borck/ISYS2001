{
  "cells": [
    {
      "cell_type": "markdown",
      "metadata": {
        "id": "view-in-github",
        "colab_type": "text"
      },
      "source": [
        "<a href=\"https://colab.research.google.com/github/michael-borck/ISYS2001/blob/main/Module%2004%20-%20Going%20Loopy/week4_workshop2.ipynb\" target=\"_parent\"><img src=\"https://colab.research.google.com/assets/colab-badge.svg\" alt=\"Open In Colab\"/></a>"
      ]
    },
    {
      "cell_type": "markdown",
      "metadata": {
        "id": "lfVFDEU-A60v"
      },
      "source": [
        "# Week 4 Workshop 2: Lists and Data Processing\n",
        "## Turning Your Finance Tracker Into a Data Powerhouse\n",
        "\n",
        "**Duration:** 45 minutes  \n",
        "**Goal:** Master lists and collection processing to analyze financial data patterns\n",
        "\n",
        "### What You'll Build\n",
        "Transform your loop-powered tracker from Workshop 1 into a smart analysis system:\n",
        "- ✅ Store complete transaction histories\n",
        "- ✅ Search and filter transactions\n",
        "- ✅ Calculate spending patterns and insights\n",
        "- ✅ Interactive menu system for ongoing use\n",
        "- ✅ Foundation for AI-powered features next week\n",
        "\n",
        "---"
      ]
    },
    {
      "cell_type": "markdown",
      "metadata": {
        "id": "vGVXUuzzA600"
      },
      "source": [
        "## Part 1: From Variables to Collections (8 minutes)\n",
        "\n",
        "### 🧠 The Collection Problem\n",
        "\n",
        "Your Workshop 1 tracker can handle multiple expenses, but it can't remember them for analysis. Let's fix that!"
      ]
    },
    {
      "cell_type": "code",
      "execution_count": null,
      "metadata": {
        "id": "dnYzqM27A601"
      },
      "outputs": [],
      "source": [
        "# Problem: Workshop 1 approach - data gets lost\n",
        "print(\"=== Workshop 1 Limitation Demo ===\")\n",
        "\n",
        "total = 0\n",
        "count = 0\n",
        "\n",
        "# Simulating Workshop 1 approach\n",
        "for i in range(3):  # Pretend we got 3 expenses\n",
        "    expense = (i + 1) * 25  # 25, 50, 75\n",
        "    total += expense\n",
        "    count += 1\n",
        "    print(f\"Expense {i+1}: ${expense}\")\n",
        "\n",
        "print(f\"\\nTotal: ${total}, Count: {count}\")\n",
        "print(\"\\n❌ Problem: Individual expenses are LOST!\")\n",
        "print(\"❌ Can't find largest expense\")\n",
        "print(\"❌ Can't categorize by amount\")\n",
        "print(\"❌ Can't search transaction history\")"
      ]
    },
    {
      "cell_type": "code",
      "execution_count": null,
      "metadata": {
        "id": "0Yd6SU25A603"
      },
      "outputs": [],
      "source": [
        "# Solution: Store in collections for later analysis\n",
        "print(\"=== Collection-Powered Solution ===\")\n",
        "\n",
        "expenses = []       # Store amounts\n",
        "descriptions = []   # Store what each expense was for\n",
        "total = 0\n",
        "\n",
        "# Collect the same data but REMEMBER everything\n",
        "for i in range(3):\n",
        "    expense = (i + 1) * 25  # 25, 50, 75\n",
        "    description = f\"Item {i+1}\"\n",
        "\n",
        "    expenses.append(expense)\n",
        "    descriptions.append(description)\n",
        "    total += expense\n",
        "\n",
        "print(f\"All expenses: {expenses}\")\n",
        "print(f\"All descriptions: {descriptions}\")\n",
        "\n",
        "print(\"\\n✅ Now we can analyze patterns!\")\n",
        "print(f\"✅ Largest expense: ${max(expenses)}\")\n",
        "print(f\"✅ Smallest expense: ${min(expenses)}\")\n",
        "print(f\"✅ Average expense: ${total/len(expenses):.2f}\")\n",
        "\n",
        "# Count expensive items\n",
        "expensive_count = 0\n",
        "for expense in expenses:\n",
        "    if expense > 40:  # Arbitrary threshold\n",
        "        expensive_count += 1\n",
        "\n",
        "print(f\"✅ Expensive items (>$40): {expensive_count}\")"
      ]
    },
    {
      "cell_type": "markdown",
      "metadata": {
        "id": "vfOGmw5PA604"
      },
      "source": [
        "### 🎯 Your Understanding Check\n",
        "\n",
        "**Complete this analogy:**\n",
        "- Variables are like individual sticky notes\n",
        "- Lists are like ________________\n",
        "\n",
        "Write your answer and reasoning as comments below:"
      ]
    },
    {
      "cell_type": "code",
      "execution_count": null,
      "metadata": {
        "id": "dLuFORFZA604"
      },
      "outputs": [],
      "source": [
        "# Your analogy completion:\n",
        "# Lists are like _____________ because _____________\n",
        "\n",
        "# Why does this matter for your finance tracker?\n",
        "#"
      ]
    },
    {
      "cell_type": "markdown",
      "metadata": {
        "id": "DqrPCByaA605"
      },
      "source": [
        "---\n",
        "\n",
        "## Part 2: List Indexing and Safe Access (7 minutes)\n",
        "\n",
        "### 🔢 Understanding the Index System\n",
        "\n",
        "Lists use numbered positions starting from 0. This trips up everyone initially!"
      ]
    },
    {
      "cell_type": "code",
      "execution_count": null,
      "metadata": {
        "id": "5n51JIGOA605"
      },
      "outputs": [],
      "source": [
        "# Visual demonstration of indexing\n",
        "monthly_expenses = [450.00, 380.50, 520.25, 290.75]\n",
        "\n",
        "print(\"Your monthly expenses:\")\n",
        "print(f\"List: {monthly_expenses}\")\n",
        "print(f\"Index positions: 0, 1, 2, 3\")\n",
        "print()\n",
        "\n",
        "print(\"Accessing by index:\")\n",
        "print(f\"First month (index 0): ${monthly_expenses[0]}\")\n",
        "print(f\"Second month (index 1): ${monthly_expenses[1]}\")\n",
        "print(f\"Last month (index -1): ${monthly_expenses[-1]}\")\n",
        "print(f\"Total months: {len(monthly_expenses)}\")\n",
        "\n",
        "print(\"\\n🚨 Common mistake:\")\n",
        "try:\n",
        "    print(f\"Month 4 (index 4): ${monthly_expenses[4]}\")\n",
        "except IndexError as e:\n",
        "    print(f\"IndexError: {e}\")\n",
        "    print(\"Remember: 4 items have indices 0,1,2,3 (not 1,2,3,4)\")"
      ]
    },
    {
      "cell_type": "markdown",
      "metadata": {
        "id": "F4o_zJfaA606"
      },
      "source": [
        "### 🛡️ Safe List Access Patterns\n",
        "\n",
        "Always check before accessing to prevent crashes:"
      ]
    },
    {
      "cell_type": "code",
      "execution_count": null,
      "metadata": {
        "id": "s7KxmkDtA607"
      },
      "outputs": [],
      "source": [
        "# Your Challenge: Safe transaction display\n",
        "transactions = []  # Start with empty list\n",
        "\n",
        "# Add some sample transactions\n",
        "transactions.append(25.50)\n",
        "transactions.append(67.25)\n",
        "transactions.append(15.00)\n",
        "\n",
        "print(\"=== Safe Transaction Display ===\")\n",
        "\n",
        "# Your task: Complete this safe access pattern\n",
        "if len(transactions) > 0:  # Check if list has items\n",
        "    print(f\"First transaction: ${transactions[0]}\")\n",
        "    print(f\"Latest transaction: ${transactions[-1]}\")\n",
        "    print(f\"Total transactions: {len(transactions)}\")\n",
        "\n",
        "    # Show all transactions safely\n",
        "    print(\"\\nAll transactions:\")\n",
        "    # Your for loop here - display each with position number\n",
        "\n",
        "else:\n",
        "    print(\"No transactions recorded yet\")\n",
        "\n",
        "# Test with empty list\n",
        "empty_list = []\n",
        "print(f\"\\nEmpty list test: {len(empty_list)} items\")\n",
        "if len(empty_list) > 0:\n",
        "    print(f\"First: {empty_list[0]}\")\n",
        "else:\n",
        "    print(\"✅ Safely handled empty list!\")"
      ]
    },
    {
      "cell_type": "markdown",
      "metadata": {
        "id": "VSuTocqyA608"
      },
      "source": [
        "---\n",
        "\n",
        "## Part 3: Collection Processing Patterns (12 minutes)\n",
        "\n",
        "### 📊 Financial Data Analysis Patterns\n",
        "\n",
        "Now that you can store transaction data, let's analyze it! These patterns work for ANY collection analysis."
      ]
    },
    {
      "cell_type": "code",
      "execution_count": null,
      "metadata": {
        "id": "fYh7JxrnA608"
      },
      "outputs": [],
      "source": [
        "# Sample transaction data for analysis practice\n",
        "expenses = [23.50, 156.75, 45.00, 89.25, 12.80, 234.60, 67.30]\n",
        "categories = [\"Food\", \"Rent\", \"Food\", \"Gas\", \"Food\", \"Rent\", \"Entertainment\"]\n",
        "\n",
        "print(\"=== Financial Analysis Patterns ===\")\n",
        "print(f\"Sample data: {len(expenses)} transactions\")\n",
        "print()\n",
        "\n",
        "# Pattern 1: Accumulation (Sum/Average)\n",
        "total = 0\n",
        "for expense in expenses:\n",
        "    total += expense\n",
        "\n",
        "average = total / len(expenses)\n",
        "print(f\"📈 Total spent: ${total:.2f}\")\n",
        "print(f\"📊 Average per transaction: ${average:.2f}\")\n",
        "\n",
        "# Pattern 2: Conditional Counting\n",
        "large_expenses = 0\n",
        "large_threshold = 100\n",
        "\n",
        "for expense in expenses:\n",
        "    if expense > large_threshold:\n",
        "        large_expenses += 1\n",
        "\n",
        "print(f\"🔍 Large expenses (>${large_threshold}): {large_expenses}\")\n",
        "\n",
        "# Pattern 3: Finding Extremes\n",
        "if len(expenses) > 0:\n",
        "    highest = expenses[0]  # Start with first item\n",
        "    lowest = expenses[0]\n",
        "\n",
        "    for expense in expenses:\n",
        "        if expense > highest:\n",
        "            highest = expense\n",
        "        if expense < lowest:\n",
        "            lowest = expense\n",
        "\n",
        "    print(f\"💰 Highest expense: ${highest}\")\n",
        "    print(f\"💸 Lowest expense: ${lowest}\")\n",
        "    print(f\"📏 Spending range: ${highest - lowest:.2f}\")"
      ]
    },
    {
      "cell_type": "markdown",
      "metadata": {
        "id": "keCVm6p7A609"
      },
      "source": [
        "### 🎯 Your Challenge: Category Analysis\n",
        "\n",
        "Use the sample data above to analyze spending by category. Complete each pattern:"
      ]
    },
    {
      "cell_type": "code",
      "execution_count": null,
      "metadata": {
        "id": "JVYd36FBA60-"
      },
      "outputs": [],
      "source": [
        "# Given data (same as above)\n",
        "expenses = [23.50, 156.75, 45.00, 89.25, 12.80, 234.60, 67.30]\n",
        "categories = [\"Food\", \"Rent\", \"Food\", \"Gas\", \"Food\", \"Rent\", \"Entertainment\"]\n",
        "\n",
        "print(\"=== Category Analysis Challenge ===\")\n",
        "\n",
        "# Challenge 1: Count transactions per category\n",
        "food_count = 0\n",
        "rent_count = 0\n",
        "# Your counting code here\n",
        "# Hint: Loop through categories list and count each type\n",
        "\n",
        "\n",
        "# Challenge 2: Sum spending per category\n",
        "food_total = 0\n",
        "rent_total = 0\n",
        "# Your summation code here\n",
        "# Hint: Need to use index to match expense[i] with category[i]\n",
        "\n",
        "\n",
        "# Challenge 3: Find most expensive transaction in each category\n",
        "# Your max-finding code here\n",
        "# Hint: Track highest food expense and highest rent expense separately\n",
        "\n",
        "\n",
        "print(\"\\n📊 Category Summary:\")\n",
        "print(f\"Food: {food_count} transactions, ${food_total:.2f} total\")\n",
        "print(f\"Rent: {rent_count} transactions, ${rent_total:.2f} total\")\n",
        "# Add your other category results"
      ]
    },
    {
      "cell_type": "markdown",
      "metadata": {
        "id": "CILYcmnBA60_"
      },
      "source": [
        "### 🤝 AI Checkpoint 1: Pattern Recognition\n",
        "\n",
        "After completing the category analysis, ask AI:\n",
        "\n",
        "```\n",
        "\"I just wrote code to analyze expenses by category using loops and lists.\n",
        "Here's my approach:\n",
        "[paste your code]\n",
        "\n",
        "1. What data processing patterns am I using?\n",
        "2. Is there a more efficient way to match expenses with categories?\n",
        "3. What other financial insights could I calculate with these same patterns?\n",
        "\n",
        "Help me understand the patterns, don't just give me different code.\"\n",
        "```\n",
        "\n",
        "---"
      ]
    },
    {
      "cell_type": "markdown",
      "metadata": {
        "id": "parKMACGA60_"
      },
      "source": [
        "## Part 2: Search and Filter Patterns (10 minutes)\n",
        "\n",
        "### 🔍 Finding Specific Transactions\n",
        "\n",
        "Real finance trackers need search capabilities. Let's build the fundamental patterns:"
      ]
    },
    {
      "cell_type": "code",
      "execution_count": null,
      "metadata": {
        "id": "rHUATs41A61A"
      },
      "outputs": [],
      "source": [
        "# Sample transaction database\n",
        "amounts = [23.50, 156.75, 45.00, 89.25, 12.80, 234.60, 67.30]\n",
        "descriptions = [\"Grocery\", \"Rent\", \"Restaurant\", \"Gas\", \"Coffee\", \"Rent\", \"Movie\"]\n",
        "dates = [\"Jan 1\", \"Jan 1\", \"Jan 2\", \"Jan 3\", \"Jan 3\", \"Feb 1\", \"Feb 5\"]\n",
        "\n",
        "print(\"=== Transaction Search Demo ===\")\n",
        "\n",
        "# Pattern 1: Search by description\n",
        "search_term = \"Rent\"\n",
        "found_transactions = []\n",
        "\n",
        "print(f\"Searching for transactions containing '{search_term}':\")\n",
        "\n",
        "for i in range(len(descriptions)):\n",
        "    if search_term.lower() in descriptions[i].lower():\n",
        "        # Found a match! Store the complete transaction info\n",
        "        transaction_info = {\n",
        "            'amount': amounts[i],\n",
        "            'description': descriptions[i],\n",
        "            'date': dates[i]\n",
        "        }\n",
        "        found_transactions.append(transaction_info)\n",
        "        print(f\"  📝 {dates[i]}: ${amounts[i]} - {descriptions[i]}\")\n",
        "\n",
        "print(f\"\\nFound {len(found_transactions)} matching transactions\")\n",
        "\n",
        "# Calculate total for search results\n",
        "search_total = 0\n",
        "for transaction in found_transactions:\n",
        "    search_total += transaction['amount']\n",
        "\n",
        "print(f\"Total for '{search_term}': ${search_total:.2f}\")"
      ]
    },
    {
      "cell_type": "markdown",
      "metadata": {
        "id": "oIYoGf1EA61A"
      },
      "source": [
        "### 🎯 Your Challenge: Amount-Based Filtering\n",
        "\n",
        "Build a filter that finds all transactions within a specific amount range:"
      ]
    },
    {
      "cell_type": "code",
      "execution_count": null,
      "metadata": {
        "id": "WCVeGCTLA61B"
      },
      "outputs": [],
      "source": [
        "# Use the same sample data\n",
        "amounts = [23.50, 156.75, 45.00, 89.25, 12.80, 234.60, 67.30]\n",
        "descriptions = [\"Grocery\", \"Rent\", \"Restaurant\", \"Gas\", \"Coffee\", \"Rent\", \"Movie\"]\n",
        "\n",
        "print(\"=== Amount Range Filter ===\")\n",
        "\n",
        "# Get filter criteria\n",
        "min_amount = float(input(\"Minimum amount: $\"))\n",
        "max_amount = float(input(\"Maximum amount: $\"))\n",
        "\n",
        "print(f\"\\nFinding transactions between ${min_amount} and ${max_amount}:\")\n",
        "\n",
        "# Your filtering code here:\n",
        "# 1. Loop through the amounts list\n",
        "# 2. Check if each amount is in range\n",
        "# 3. If yes, display the transaction info\n",
        "# 4. Count and sum the matching transactions\n",
        "\n",
        "matching_count = 0\n",
        "matching_total = 0\n",
        "\n",
        "# Your loop here\n",
        "\n",
        "\n",
        "print(f\"\\n📊 Filter Results:\")\n",
        "print(f\"Matching transactions: {matching_count}\")\n",
        "print(f\"Total in range: ${matching_total:.2f}\")"
      ]
    },
    {
      "cell_type": "markdown",
      "metadata": {
        "id": "oKff_8WUA61B"
      },
      "source": [
        "### 🔍 Advanced Search Challenge\n",
        "\n",
        "Create a search that finds transactions by date AND amount criteria:"
      ]
    },
    {
      "cell_type": "code",
      "execution_count": null,
      "metadata": {
        "id": "ScdH4Ti7A61C"
      },
      "outputs": [],
      "source": [
        "# Multi-criteria search challenge\n",
        "amounts = [23.50, 156.75, 45.00, 89.25, 12.80, 234.60, 67.30]\n",
        "descriptions = [\"Grocery\", \"Rent\", \"Restaurant\", \"Gas\", \"Coffee\", \"Rent\", \"Movie\"]\n",
        "dates = [\"Jan 1\", \"Jan 1\", \"Jan 2\", \"Jan 3\", \"Jan 3\", \"Feb 1\", \"Feb 5\"]\n",
        "\n",
        "print(\"=== Advanced Search: January Expenses Over $20 ===\")\n",
        "\n",
        "# Your search logic here:\n",
        "# Find all transactions that are:\n",
        "# 1. From January (date contains \"Jan\")\n",
        "# 2. Amount greater than $20\n",
        "\n",
        "# Pattern: AND condition in if statement\n",
        "# for i in range(len(dates)):\n",
        "#     if (condition1) and (condition2):\n",
        "#         # Process matching transaction\n",
        "\n"
      ]
    },
    {
      "cell_type": "markdown",
      "metadata": {
        "id": "OmTGfZwVA61C"
      },
      "source": [
        "---\n",
        "\n",
        "## Part 3: Interactive Menu Systems (15 minutes)\n",
        "\n",
        "### 🎮 Building User-Controlled Programs\n",
        "\n",
        "Combine everything you've learned into an interactive finance tracker that keeps running until the user decides to quit:"
      ]
    },
    {
      "cell_type": "code",
      "execution_count": null,
      "metadata": {
        "id": "P8FaUXiGA61C"
      },
      "outputs": [],
      "source": [
        "print(\"=== Interactive Finance Tracker v0.3 ===\")\n",
        "print(\"Workshop 2: Lists + Loops = Power!\")\n",
        "print()\n",
        "\n",
        "# Initialize tracker data\n",
        "name = input(\"Enter your name: \")\n",
        "expenses = []        # Store all expense amounts\n",
        "descriptions = []    # Store what each expense was for\n",
        "budget = 0\n",
        "\n",
        "# Get budget with validation (your Workshop 1 pattern)\n",
        "while budget < 100 or budget > 50000:\n",
        "    try:\n",
        "        budget_str = input(\"Monthly budget ($100-$50,000): $\")\n",
        "        budget = float(budget_str)\n",
        "        if budget < 100:\n",
        "            print(\"Budget too low! Minimum $100\")\n",
        "        elif budget > 50000:\n",
        "            print(\"Budget too high! Maximum $50,000\")\n",
        "    except ValueError:\n",
        "        print(\"Please enter a valid number!\")\n",
        "        budget = 0\n",
        "\n",
        "print(f\"\\nWelcome {name}! Budget: ${budget:.2f}\")\n",
        "\n",
        "# Main program loop\n",
        "running = True\n",
        "\n",
        "while running:\n",
        "    # Display menu\n",
        "    print(\"\\n\" + \"=\"*40)\n",
        "    print(f\"💰 {name}'s Finance Tracker\")\n",
        "    print(f\"📊 Current: {len(expenses)} transactions, ${sum(expenses):.2f} spent\")\n",
        "    print(\"=\"*40)\n",
        "    print(\"1. Add expense\")\n",
        "    print(\"2. View all transactions\")\n",
        "    print(\"3. Search transactions\")\n",
        "    print(\"4. Budget analysis\")\n",
        "    print(\"5. Exit\")\n",
        "\n",
        "    choice = input(\"\\nChoose option (1-5): \")\n",
        "\n",
        "    if choice == \"1\":\n",
        "        # Add expense - your code from Workshop 1\n",
        "        print(\"\\n--- Add Expense ---\")\n",
        "        # Get expense amount with validation\n",
        "        # Get description\n",
        "        # Add both to respective lists\n",
        "        # Give feedback about budget percentage\n",
        "\n",
        "    elif choice == \"2\":\n",
        "        # View all transactions\n",
        "        print(\"\\n--- Transaction History ---\")\n",
        "        if len(expenses) == 0:\n",
        "            print(\"No transactions yet!\")\n",
        "        else:\n",
        "            # Your display code here\n",
        "            # Show each transaction with number, amount, description\n",
        "            pass\n",
        "\n",
        "    elif choice == \"3\":\n",
        "        # Search transactions\n",
        "        print(\"\\n--- Search Transactions ---\")\n",
        "        if len(expenses) == 0:\n",
        "            print(\"No transactions to search!\")\n",
        "        else:\n",
        "            # Your search code here\n",
        "            # Ask what to search for\n",
        "            # Find matching transactions\n",
        "            # Display results\n",
        "            pass\n",
        "\n",
        "    elif choice == \"4\":\n",
        "        # Budget analysis\n",
        "        print(\"\\n--- Budget Analysis ---\")\n",
        "        if len(expenses) == 0:\n",
        "            print(\"No transactions to analyze!\")\n",
        "        else:\n",
        "            # Your analysis code here\n",
        "            # Calculate total, average, percentage of budget used\n",
        "            # Count large vs small expenses\n",
        "            # Give budget advice\n",
        "            pass\n",
        "\n",
        "    elif choice == \"5\":\n",
        "        # Exit\n",
        "        running = False\n",
        "        print(f\"\\nGoodbye {name}! Your financial future is bright! 🌟\")\n",
        "\n",
        "    else:\n",
        "        print(\"Invalid choice! Please choose 1-5.\")\n",
        "\n",
        "print(\"\\n🎯 Finance Tracker session complete!\")"
      ]
    },
    {
      "cell_type": "markdown",
      "metadata": {
        "id": "-vz2k0TPA61D"
      },
      "source": [
        "### 💡 Implementation Strategy\n",
        "\n",
        "**Complete the menu system step by step:**\n",
        "\n",
        "1. **Start with Option 1** (Add expense) - use your Workshop 1 validation pattern\n",
        "2. **Then Option 2** (View all) - use safe list access pattern\n",
        "3. **Then Option 4** (Analysis) - use accumulation and counting patterns\n",
        "4. **Finally Option 3** (Search) - use search pattern from Part 2\n",
        "\n",
        "**Test after each option works!**"
      ]
    },
    {
      "cell_type": "markdown",
      "metadata": {
        "id": "gHyWNfn3A61D"
      },
      "source": [
        "---\n",
        "\n",
        "## Part 4: Advanced Pattern Application (8 minutes)\n",
        "\n",
        "### 📈 Spending Trend Analysis\n",
        "\n",
        "Let's build more sophisticated analysis using the patterns you've mastered:"
      ]
    },
    {
      "cell_type": "code",
      "execution_count": null,
      "metadata": {
        "id": "SUQmOIx-A61D"
      },
      "outputs": [],
      "source": [
        "# Advanced Challenge: Spending Trends\n",
        "print(\"=== Spending Pattern Analyzer ===\")\n",
        "\n",
        "# Simulated weekly spending data\n",
        "weekly_totals = [156.75, 234.50, 198.25, 267.80, 145.60]\n",
        "week_names = [\"Week 1\", \"Week 2\", \"Week 3\", \"Week 4\", \"Week 5\"]\n",
        "\n",
        "print(\"Weekly spending analysis:\")\n",
        "\n",
        "# Challenge 1: Show each week with trend indicator\n",
        "for i in range(len(weekly_totals)):\n",
        "    current_week = weekly_totals[i]\n",
        "\n",
        "    # Compare with previous week (if not first week)\n",
        "    if i > 0:\n",
        "        previous_week = weekly_totals[i-1]\n",
        "\n",
        "        # Your trend logic here:\n",
        "        # If current > previous: \"📈 Up\"\n",
        "        # If current < previous: \"📉 Down\"\n",
        "        # If current == previous: \"➡️ Same\"\n",
        "\n",
        "        # Calculate percentage change\n",
        "        # change_percent = ((current - previous) / previous) * 100\n",
        "\n",
        "        print(f\"{week_names[i]}: ${current_week:.2f} [Your trend indicator here]\")\n",
        "    else:\n",
        "        print(f\"{week_names[i]}: ${current_week:.2f} [Baseline]\")\n",
        "\n",
        "# Challenge 2: Find best and worst spending weeks\n",
        "# Your min/max pattern here\n",
        "\n",
        "# Challenge 3: Calculate if spending is trending up or down overall\n",
        "# Compare first week to last week\n"
      ]
    },
    {
      "cell_type": "markdown",
      "metadata": {
        "id": "T_UPIKarA61E"
      },
      "source": [
        "### 🎯 Your Innovation Challenge\n",
        "\n",
        "Design a new financial insight using list processing patterns. Ideas:\n",
        "- Find the most common expense amount range\n",
        "- Detect unusual spending spikes\n",
        "- Calculate \"spending consistency\" score\n",
        "- Identify expense categories trending up/down\n",
        "\n",
        "**Pick one and implement it:**"
      ]
    },
    {
      "cell_type": "code",
      "execution_count": null,
      "metadata": {
        "id": "fHnkf8FlA61E"
      },
      "outputs": [],
      "source": [
        "# Your innovative financial insight here\n",
        "print(\"=== My Financial Insight Innovation ===\")\n",
        "\n",
        "# Sample data to work with\n",
        "expenses = [23.50, 156.75, 45.00, 89.25, 12.80, 234.60, 67.30, 45.00, 89.25]\n",
        "descriptions = [\"Grocery\", \"Rent\", \"Restaurant\", \"Gas\", \"Coffee\", \"Rent\", \"Movie\", \"Grocery\", \"Gas\"]\n",
        "\n",
        "# Your innovation here - what insight will you calculate?\n",
        "# Describe your approach:\n",
        "print(\"My insight: [Describe what you're calculating]\")\n",
        "\n",
        "# Your implementation:\n",
        "\n"
      ]
    },
    {
      "cell_type": "markdown",
      "metadata": {
        "id": "zMnLMIDzA61E"
      },
      "source": [
        "---\n",
        "\n",
        "## Part 5: Integration and Testing (5 minutes)\n",
        "\n",
        "### 🧪 Complete System Test\n",
        "\n",
        "Test your completed interactive finance tracker with realistic data:"
      ]
    },
    {
      "cell_type": "code",
      "execution_count": null,
      "metadata": {
        "id": "yze1d4EiA61F"
      },
      "outputs": [],
      "source": [
        "# Test scenario - run your complete interactive tracker with this data:\n",
        "test_scenario = \"\"\"\n",
        "Test your interactive finance tracker with:\n",
        "\n",
        "Setup:\n",
        "- Name: Your actual name\n",
        "- Budget: $2000\n",
        "\n",
        "Add these expenses:\n",
        "- $450 for \"Rent\"\n",
        "- $67.50 for \"Groceries\"\n",
        "- $23.75 for \"Coffee\"\n",
        "- $89.00 for \"Gas\"\n",
        "- done\n",
        "\n",
        "Then test each menu option:\n",
        "- View all transactions\n",
        "- Search for \"Rent\"\n",
        "- Run budget analysis\n",
        "- Exit\n",
        "\n",
        "Expected results:\n",
        "- 4 transactions totaling $630.25\n",
        "- 31.5% of budget used\n",
        "- $1369.75 remaining\n",
        "- 1 large expense (rent)\n",
        "\"\"\"\n",
        "\n",
        "print(test_scenario)\n",
        "print(\"\\nRun your interactive tracker above with this test data! ⬆️\")"
      ]
    },
    {
      "cell_type": "markdown",
      "metadata": {
        "id": "oBK6XoYfA61F"
      },
      "source": [
        "### 🤝 AI Checkpoint 2: System Review\n",
        "\n",
        "After testing your complete system, ask AI:\n",
        "\n",
        "```\n",
        "\"I've built an interactive finance tracker that uses:\n",
        "- While loops for input validation\n",
        "- Sentinel values for expense collection\n",
        "- For loops for transaction analysis\n",
        "- Lists to store transaction history\n",
        "- Menu system for user interaction\n",
        "\n",
        "Here's my complete code:\n",
        "[paste your interactive tracker]\n",
        "\n",
        "1. What programming patterns am I using successfully?\n",
        "2. Are there any edge cases I should test?\n",
        "3. What features would make this more useful for real budget tracking?\n",
        "4. How does this prepare me for adding AI features later?\n",
        "\n",
        "Focus on helping me understand what I've built, not just suggesting changes.\"\n",
        "```\n",
        "\n",
        "---"
      ]
    },
    {
      "cell_type": "markdown",
      "metadata": {
        "id": "1z0HxQEkA61F"
      },
      "source": [
        "## Part 6: Computational Thinking Reflection (5 minutes)\n",
        "\n",
        "### 🧠 Meta-Learning: Understanding Your Learning\n",
        "\n",
        "Complete these reflections about your computational thinking development:"
      ]
    },
    {
      "cell_type": "code",
      "execution_count": null,
      "metadata": {
        "id": "MOH6ZNrlA61G"
      },
      "outputs": [],
      "source": [
        "# Computational thinking reflection (write as comments)\n",
        "\n",
        "# PATTERN RECOGNITION:\n",
        "# What loop patterns did you recognize from Workshop 1 that helped in Workshop 2?\n",
        "#\n",
        "\n",
        "# DECOMPOSITION:\n",
        "# How did you break down the \"interactive finance tracker\" into smaller problems?\n",
        "#\n",
        "\n",
        "# ABSTRACTION:\n",
        "# What patterns from your finance tracker could work for other types of data?\n",
        "# (e.g., grade tracking, inventory management, etc.)\n",
        "#\n",
        "\n",
        "# ALGORITHM DESIGN:\n",
        "# How has your approach to planning code changed from Week 1 to now?\n",
        "#\n",
        "\n",
        "# AI PARTNERSHIP:\n",
        "# How did your questions to AI change between Workshop 1 and Workshop 2?\n",
        "#\n",
        "\n",
        "print(\"🎯 Workshop 2 reflection complete!\")\n",
        "print(\"Ready for the mini-project challenge! 🚀\")"
      ]
    },
    {
      "cell_type": "markdown",
      "metadata": {
        "id": "GUHeNSLiA61G"
      },
      "source": [
        "---\n",
        "\n",
        "## 🚀 Workshop 2 Complete!\n",
        "\n",
        "### **What You've Mastered:**\n",
        "- ✅ **List Storage**: Keeping transaction history for analysis\n",
        "- ✅ **Safe Access**: Preventing index errors with proper bounds checking\n",
        "- ✅ **Search Patterns**: Finding specific transactions by various criteria\n",
        "- ✅ **Analysis Patterns**: Accumulation, counting, and extremes\n",
        "- ✅ **Menu Systems**: Interactive programs that keep running\n",
        "- ✅ **Integration**: Combining multiple loop patterns effectively\n",
        "\n",
        "### **Your Finance Tracker Evolution:**\n",
        "- **Week 1**: Basic calculations and logic\n",
        "- **Week 2**: Smart decision making\n",
        "- **Week 3 Workshop 1**: Loop-powered input and validation\n",
        "- **Week 3 Workshop 2**: Data storage and pattern analysis\n",
        "- **Coming**: AI-powered insights and recommendations\n",
        "\n",
        "### **🎯 Mini-Project Preview:**\n",
        "In the mini-project, you'll use these patterns to build advanced finance features:\n",
        "- Monthly spending category breakdown\n",
        "- Savings goal progress tracking with multiple goals\n",
        "- Spending habit pattern detection\n",
        "- Budget optimization recommendations\n",
        "\n",
        "### **💡 Key Insight:**\n",
        "You now have the core patterns that power ALL data processing:\n",
        "- **Accumulation** (totals, averages)\n",
        "- **Filtering** (search, conditions)\n",
        "- **Counting** (categories, frequencies)\n",
        "- **Extremes** (min, max, ranges)\n",
        "\n",
        "These patterns work for financial data, student grades, sales records, sensor data - ANY collection!\n",
        "\n",
        "### **🤖 AI Partnership Growth:**\n",
        "Notice how your AI interactions evolved:\n",
        "- Week 1: \"How do I...?\"\n",
        "- Workshop 1: \"Should I use while or for?\"\n",
        "- Workshop 2: \"What patterns am I using?\"\n",
        "- **Next**: \"How can AI enhance these patterns?\"\n",
        "\n",
        "---\n",
        "\n",
        "**Ready for the mini-project? Your finance tracker is about to get seriously smart! 💰🤖**"
      ]
    }
  ],
  "metadata": {
    "kernelspec": {
      "display_name": "Python 3",
      "language": "python",
      "name": "python3"
    },
    "language_info": {
      "name": "python",
      "version": "3.9.0"
    },
    "colab": {
      "provenance": [],
      "include_colab_link": true
    }
  },
  "nbformat": 4,
  "nbformat_minor": 0
}