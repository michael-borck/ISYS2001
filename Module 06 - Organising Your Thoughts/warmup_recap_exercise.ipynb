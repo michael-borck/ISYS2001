{
  "cells": [
    {
      "cell_type": "markdown",
      "metadata": {
        "id": "view-in-github",
        "colab_type": "text"
      },
      "source": [
        "<a href=\"https://colab.research.google.com/github/michael-borck/ISYS2001/blob/main/Module%2006%20-%20Organising%20Your%20Thoughts/warmup_recap_exercise.ipynb\" target=\"_parent\"><img src=\"https://colab.research.google.com/assets/colab-badge.svg\" alt=\"Open In Colab\"/></a>"
      ]
    },
    {
      "cell_type": "markdown",
      "metadata": {
        "id": "Q995zFfJaLbl"
      },
      "source": [
        "## 🎯 Session Goals\n",
        "\n",
        "Welcome to Week 6! Today we'll apply dictionary concepts through hands-on practice. This warm-up helps us:\n",
        "- Activate your knowledge from the pre-class modules\n",
        "- Identify any gaps in dictionary understanding\n",
        "- Prepare for today's library management workshop\n",
        "- Build confidence with dictionary operations\n",
        "\n",
        "## 📚 Quick Knowledge Check\n",
        "\n",
        "Before we start building systems, let's test our dictionary fundamentals with some prediction exercises.\n",
        "\n",
        "### Check 1: Basic Dictionary Operations\n",
        "\n",
        "Look at this code and predict what each line will output **before running it**:"
      ]
    },
    {
      "cell_type": "code",
      "metadata": {
        "id": "Lh7gbzTgaLbo"
      },
      "source": [
        "# Student record for our examples\n",
        "student = {\n",
        "    'name': 'Alice Johnson',\n",
        "    'age': 19,\n",
        "    'major': 'Business Information Systems',\n",
        "    'gpa': 3.7,\n",
        "    'courses': ['ISYS2001', 'MATH1001', 'ECON1001']\n",
        "}\n",
        "\n",
        "print(\"=== Prediction Exercise ===\")\n",
        "print(\"What will each line print? Discuss with your partner first!\")"
      ],
      "execution_count": null,
      "outputs": []
    },
    {
      "cell_type": "code",
      "metadata": {
        "id": "bQtRpJ8AaLbp"
      },
      "source": [
        "# Line 1: Direct access\n",
        "print(\"1.\", student['name'])"
      ],
      "execution_count": null,
      "outputs": []
    },
    {
      "cell_type": "code",
      "metadata": {
        "id": "xS4Gsp7saLbq"
      },
      "source": [
        "# Line 2: Another direct access\n",
        "print(\"2.\", student['gpa'])"
      ],
      "execution_count": null,
      "outputs": []
    },
    {
      "cell_type": "code",
      "metadata": {
        "id": "kAEhWB0VaLbr"
      },
      "source": [
        "# Line 3: This will cause an error!\n",
        "try:\n",
        "    print(\"3.\", student['grade'])\n",
        "except KeyError as e:\n",
        "    print(\"3. KeyError:\", e)"
      ],
      "execution_count": null,
      "outputs": []
    },
    {
      "cell_type": "code",
      "metadata": {
        "id": "rN5Qh2OyaLbr"
      },
      "source": [
        "# Line 4: Safe access with .get()\n",
        "print(\"4.\", student.get('grade'))"
      ],
      "execution_count": null,
      "outputs": []
    },
    {
      "cell_type": "code",
      "metadata": {
        "id": "hB0ijyB0aLbt"
      },
      "source": [
        "# Line 5: Safe access with default value\n",
        "print(\"5.\", student.get('grade', 'Not assigned'))"
      ],
      "execution_count": null,
      "outputs": []
    },
    {
      "cell_type": "markdown",
      "metadata": {
        "id": "H52_-WY0aLbt"
      },
      "source": [
        "### Check 2: Dictionary Methods\n",
        "\n",
        "Predict what these operations will produce:"
      ]
    },
    {
      "cell_type": "code",
      "metadata": {
        "id": "jHCmKUhiaLbu"
      },
      "source": [
        "print(\"\\n=== Dictionary Methods ===\")\n",
        "\n",
        "# What keys are in our dictionary?\n",
        "print(\"Keys:\", list(student.keys()))"
      ],
      "execution_count": null,
      "outputs": []
    },
    {
      "cell_type": "code",
      "metadata": {
        "id": "XmMtUEpJaLbv"
      },
      "source": [
        "# What values are stored?\n",
        "print(\"Values:\", list(student.values()))"
      ],
      "execution_count": null,
      "outputs": []
    },
    {
      "cell_type": "code",
      "metadata": {
        "id": "Y8lUAnA5aLbv"
      },
      "source": [
        "# What key-value pairs exist?\n",
        "print(\"Items:\")\n",
        "for key, value in student.items():\n",
        "    print(f\"  {key}: {value}\")"
      ],
      "execution_count": null,
      "outputs": []
    },
    {
      "cell_type": "markdown",
      "metadata": {
        "id": "DSzoyRzOaLbv"
      },
      "source": [
        "## 🧠 Understanding Check\n",
        "\n",
        "**Discussion Questions (2 minutes with partner):**\n",
        "\n",
        "1. What's the difference between `student['grade']` and `student.get('grade')`?\n",
        "2. When would you use `.keys()` vs `.values()` vs `.items()`?\n",
        "3. Why might dictionaries be better than lists for student records?\n",
        "\n",
        "## 🔍 Nested Dictionary Exploration\n",
        "\n",
        "Real-world data is often more complex. Let's explore nested structures:"
      ]
    },
    {
      "cell_type": "code",
      "metadata": {
        "id": "pEOjBEH_aLbw"
      },
      "source": [
        "# Enhanced student record with nested data\n",
        "enhanced_student = {\n",
        "    'personal_info': {\n",
        "        'name': 'Alice Johnson',\n",
        "        'age': 19,\n",
        "        'email': 'alice.johnson@university.edu'\n",
        "    },\n",
        "    'academic_info': {\n",
        "        'major': 'Business Information Systems',\n",
        "        'gpa': 3.7,\n",
        "        'year': 'Second Year',\n",
        "        'credits_completed': 48\n",
        "    },\n",
        "    'current_courses': {\n",
        "        'ISYS2001': {\n",
        "            'name': 'Introduction to Business Programming',\n",
        "            'credits': 6,\n",
        "            'grade': 'In Progress'\n",
        "        },\n",
        "        'MATH1001': {\n",
        "            'name': 'Mathematics for Business',\n",
        "            'credits': 6,\n",
        "            'grade': 'A-'\n",
        "        },\n",
        "        'ECON1001': {\n",
        "            'name': 'Economics Principles',\n",
        "            'credits': 6,\n",
        "            'grade': 'B+'\n",
        "        }\n",
        "    }\n",
        "}\n",
        "\n",
        "print(\"Enhanced student record loaded!\")\n",
        "print(f\"Student: {enhanced_student['personal_info']['name']}\")"
      ],
      "execution_count": null,
      "outputs": []
    },
    {
      "cell_type": "markdown",
      "metadata": {
        "id": "9pq0GeAuaLbw"
      },
      "source": [
        "### Nested Access Practice"
      ]
    },
    {
      "cell_type": "code",
      "metadata": {
        "id": "aHVYnG4taLbw"
      },
      "source": [
        "print(\"=== Nested Access Examples ===\")\n",
        "\n",
        "# Access nested information\n",
        "print(f\"Name: {enhanced_student['personal_info']['name']}\")\n",
        "print(f\"Major: {enhanced_student['academic_info']['major']}\")\n",
        "print(f\"GPA: {enhanced_student['academic_info']['gpa']}\")\n",
        "print(f\"Email: {enhanced_student['personal_info']['email']}\")"
      ],
      "execution_count": null,
      "outputs": []
    },
    {
      "cell_type": "markdown",
      "metadata": {
        "id": "9oninjOhaLbx"
      },
      "source": [
        "### Your Turn: Safe Nested Access\n",
        "\n",
        "Complete these exercises using safe access methods:"
      ]
    },
    {
      "cell_type": "code",
      "metadata": {
        "id": "eDiPTYwFaLbx"
      },
      "source": [
        "print(\"\\n=== Your Turn: Safe Nested Access ===\")\n",
        "\n",
        "# Exercise 1: Safely get the student's phone number (which doesn't exist)\n",
        "# TODO: Use nested .get() calls to safely access personal_info -> phone\n",
        "phone = None  # Replace with your safe access code\n",
        "print(f\"Phone: {phone}\")"
      ],
      "execution_count": null,
      "outputs": []
    },
    {
      "cell_type": "code",
      "metadata": {
        "id": "0CKgv_bsaLbx"
      },
      "source": [
        "# Exercise 2: Safely get a grade for PHIL1001 (which doesn't exist)\n",
        "# TODO: Safely access current_courses -> PHIL1001 -> grade\n",
        "phil_grade = None  # Replace with your safe access code\n",
        "print(f\"Philosophy grade: {phil_grade}\")"
      ],
      "execution_count": null,
      "outputs": []
    },
    {
      "cell_type": "code",
      "metadata": {
        "id": "u35hgcCeaLbx"
      },
      "source": [
        "# Exercise 3: Get all course names from current_courses\n",
        "print(\"Current courses:\")\n",
        "# TODO: Loop through current_courses and print course names\n",
        "# Hint: Use .items() and access the nested 'name' field"
      ],
      "execution_count": null,
      "outputs": []
    },
    {
      "cell_type": "markdown",
      "metadata": {
        "id": "z2G8pmY3aLbx"
      },
      "source": [
        "**Solutions (run after trying above):**"
      ]
    },
    {
      "cell_type": "code",
      "metadata": {
        "id": "0ju3CngBaLbx"
      },
      "source": [
        "print(\"=== SOLUTIONS ===\")\n",
        "\n",
        "# Solution 1: Safe phone access\n",
        "phone = enhanced_student.get('personal_info', {}).get('phone', 'Not provided')\n",
        "print(f\"Phone: {phone}\")\n",
        "\n",
        "# Solution 2: Safe grade access for non-existent course\n",
        "phil_grade = enhanced_student.get('current_courses', {}).get('PHIL1001', {}).get('grade', 'Not enrolled')\n",
        "print(f\"Philosophy grade: {phil_grade}\")\n",
        "\n",
        "# Solution 3: All course names\n",
        "print(\"Current courses:\")\n",
        "courses = enhanced_student.get('current_courses', {})\n",
        "for course_code, course_info in courses.items():\n",
        "    course_name = course_info.get('name', 'Unknown')\n",
        "    print(f\"  {course_code}: {course_name}\")"
      ],
      "execution_count": null,
      "outputs": []
    },
    {
      "cell_type": "markdown",
      "metadata": {
        "id": "9LM_pveCaLby"
      },
      "source": [
        "## 🎯 Mini Challenges\n",
        "\n",
        "Work with your partner to solve these quick challenges:\n",
        "\n",
        "### Challenge 1: Calculate Total Credits"
      ]
    },
    {
      "cell_type": "code",
      "metadata": {
        "id": "jfKl0lWpaLby"
      },
      "source": [
        "print(\"=== Challenge 1: Total Credits ===\")\n",
        "\n",
        "# TODO: Calculate total credits from current_courses\n",
        "# Each course has a 'credits' field\n",
        "total_credits = 0\n",
        "\n",
        "# Your code here:\n",
        "\n",
        "\n",
        "print(f\"Total credits this semester: {total_credits}\")"
      ],
      "execution_count": null,
      "outputs": []
    },
    {
      "cell_type": "markdown",
      "metadata": {
        "id": "NXIjNxhxaLby"
      },
      "source": [
        "### Challenge 2: Grade Point Analysis"
      ]
    },
    {
      "cell_type": "code",
      "metadata": {
        "id": "jdIZAS0QaLby"
      },
      "source": [
        "print(\"=== Challenge 2: Grade Analysis ===\")\n",
        "\n",
        "# Grade point values\n",
        "grade_points = {\n",
        "    'A+': 4.0, 'A': 4.0, 'A-': 3.7,\n",
        "    'B+': 3.3, 'B': 3.0, 'B-': 2.7,\n",
        "    'C+': 2.3, 'C': 2.0, 'C-': 1.7,\n",
        "    'D': 1.0, 'F': 0.0, 'In Progress': None\n",
        "}\n",
        "\n",
        "# TODO: Find courses with completed grades (not \"In Progress\")\n",
        "completed_courses = []\n",
        "\n",
        "# Your code here:\n",
        "\n",
        "\n",
        "print(\"Completed courses:\")\n",
        "for course in completed_courses:\n",
        "    print(f\"  - {course}\")"
      ],
      "execution_count": null,
      "outputs": []
    },
    {
      "cell_type": "markdown",
      "metadata": {
        "id": "p0886mmZaLby"
      },
      "source": [
        "### Challenge 3: Student Summary"
      ]
    },
    {
      "cell_type": "code",
      "metadata": {
        "id": "CtMY84ufaLby"
      },
      "source": [
        "print(\"=== Challenge 3: Student Summary ===\")\n",
        "\n",
        "# TODO: Create a summary function that prints:\n",
        "# - Student name and major\n",
        "# - Current GPA\n",
        "# - Number of courses this semester\n",
        "# - Total credits this semester\n",
        "\n",
        "def print_student_summary(student_data):\n",
        "    # Your code here\n",
        "    pass\n",
        "\n",
        "# Test your function\n",
        "print_student_summary(enhanced_student)"
      ],
      "execution_count": null,
      "outputs": []
    },
    {
      "cell_type": "markdown",
      "metadata": {
        "id": "fvMsFAPTaLbz"
      },
      "source": [
        "**Challenge Solutions:**"
      ]
    },
    {
      "cell_type": "code",
      "metadata": {
        "id": "jPF__BcOaLbz"
      },
      "source": [
        "print(\"=== CHALLENGE SOLUTIONS ===\")\n",
        "\n",
        "# Solution 1: Total Credits\n",
        "total_credits = 0\n",
        "for course_info in enhanced_student['current_courses'].values():\n",
        "    total_credits += course_info.get('credits', 0)\n",
        "print(f\"Total credits this semester: {total_credits}\")\n",
        "\n",
        "# Solution 2: Completed courses\n",
        "completed_courses = []\n",
        "for course_code, course_info in enhanced_student['current_courses'].items():\n",
        "    grade = course_info.get('grade')\n",
        "    if grade and grade != 'In Progress':\n",
        "        completed_courses.append(course_code)\n",
        "\n",
        "print(\"Completed courses:\")\n",
        "for course in completed_courses:\n",
        "    print(f\"  - {course}\")\n",
        "\n",
        "# Solution 3: Student Summary\n",
        "def print_student_summary(student_data):\n",
        "    name = student_data['personal_info']['name']\n",
        "    major = student_data['academic_info']['major']\n",
        "    gpa = student_data['academic_info']['gpa']\n",
        "\n",
        "    courses = student_data['current_courses']\n",
        "    num_courses = len(courses)\n",
        "\n",
        "    total_credits = sum(course['credits'] for course in courses.values())\n",
        "\n",
        "    print(f\"\\n📊 STUDENT SUMMARY\")\n",
        "    print(f\"Name: {name}\")\n",
        "    print(f\"Major: {major}\")\n",
        "    print(f\"Current GPA: {gpa}\")\n",
        "    print(f\"Courses this semester: {num_courses}\")\n",
        "    print(f\"Total credits: {total_credits}\")\n",
        "\n",
        "print_student_summary(enhanced_student)"
      ],
      "execution_count": null,
      "outputs": []
    },
    {
      "cell_type": "markdown",
      "metadata": {
        "id": "EWK1IcEhaLbz"
      },
      "source": [
        "## 🚀 Readiness Assessment\n",
        "\n",
        "**Quick Show of Hands:**\n",
        "\n",
        "After this warm-up, how confident do you feel with:\n",
        "\n",
        "1. **Dictionary creation and basic access** ✋\n",
        "2. **Safe access using `.get()` method** ✋  \n",
        "3. **Dictionary methods (`.keys()`, `.values()`, `.items()`)** ✋\n",
        "4. **Working with nested dictionaries** ✋\n",
        "5. **Understanding when to use dictionaries vs lists** ✋\n",
        "\n",
        "*Note for instructor: Address any areas with fewer raised hands during the upcoming workshop activities.*\n",
        "\n",
        "## 🎯 Transition to Main Workshop\n",
        "\n",
        "Great work on the warm-up! You've just demonstrated the core skills needed for today's main activities:\n",
        "\n",
        "### What's Coming Next\n",
        "\n",
        "1. **Dictionary Exploration Lab**: Practice core operations with a library catalog\n",
        "2. **Library Management Workshop**: Build a complete system with CRUD operations\n",
        "3. **Mini-Project Introduction**: Launch your dictionary-based finance tracker\n",
        "\n",
        "### Key Concepts We'll Reinforce\n",
        "\n",
        "- **Meaningful Keys**: Using descriptive keys instead of numeric indices\n",
        "- **Safe Access Patterns**: Preventing crashes with `.get()` method\n",
        "- **Dictionary Methods**: Choosing the right method for each task\n",
        "- **Nested Structures**: Organizing complex data hierarchically\n",
        "- **Real-World Applications**: Seeing why dictionaries matter in practice\n",
        "\n",
        "## 💭 Final Reflection\n",
        "\n",
        "**Think-Pair-Share (2 minutes):**\n",
        "\n",
        "1. What's one advantage of dictionaries over lists that you've seen so far?\n",
        "2. What's one thing about dictionaries you'd like to understand better?\n",
        "3. How might dictionaries help with managing financial data?"
      ]
    },
    {
      "cell_type": "markdown",
      "metadata": {
        "id": "8oTJlokEaLb0"
      },
      "source": [
        "---\n",
        "\n",
        "**You're now ready for the main workshop activities! Let's start building some real dictionary-powered systems! 🚀**"
      ]
    }
  ],
  "metadata": {
    "kernelspec": {
      "display_name": "Python 3",
      "language": "python",
      "name": "python3"
    },
    "colab": {
      "provenance": [],
      "include_colab_link": true
    }
  },
  "nbformat": 4,
  "nbformat_minor": 0
}