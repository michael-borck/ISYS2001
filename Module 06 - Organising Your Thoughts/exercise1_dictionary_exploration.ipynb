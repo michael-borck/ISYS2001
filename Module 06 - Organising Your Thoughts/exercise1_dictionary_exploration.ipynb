{
  "cells": [
    {
      "cell_type": "markdown",
      "metadata": {
        "id": "view-in-github",
        "colab_type": "text"
      },
      "source": [
        "<a href=\"https://colab.research.google.com/github/michael-borck/ISYS2001/blob/main/Module%2006%20-%20Organising%20Your%20Thoughts/exercise1_dictionary_exploration.ipynb\" target=\"_parent\"><img src=\"https://colab.research.google.com/assets/colab-badge.svg\" alt=\"Open In Colab\"/></a>"
      ]
    },
    {
      "cell_type": "raw",
      "metadata": {
        "id": "VeBl9-KtazHm"
      },
      "source": [
        "---\n",
        "title: Dictionary Exploration Lab\n",
        "subtitle: ISYS2001 Week 6 - In-Class Exercise 1\n",
        "format:\n",
        "  html:\n",
        "    toc: true\n",
        "    toc-expand: 2\n",
        "    embed-resources: true\n",
        "  pdf:\n",
        "    toc: false\n",
        "    colorlinks: true\n",
        "---"
      ]
    },
    {
      "cell_type": "markdown",
      "metadata": {
        "id": "A7lr_kudazHo"
      },
      "source": [
        "## 🎯 Learning Objectives\n",
        "\n",
        "By completing this exercise, you will:\n",
        "- Practice safe dictionary access using `.get()` method\n",
        "- Apply dictionary methods like `.keys()`, `.values()`, and `.items()`\n",
        "- Work with nested dictionary structures\n",
        "- Debug common dictionary access errors\n",
        "\n",
        "## 📚 Library Management System\n",
        "\n",
        "Today we're working with a library management system. Libraries need to catalog, search, and organize information - perfect for practicing dictionary skills!\n",
        "\n",
        "### Starting Data Structure"
      ]
    },
    {
      "cell_type": "code",
      "metadata": {
        "id": "MLBNYQGEazHs"
      },
      "source": [
        "# Our library catalog - study this structure carefully\n",
        "library_catalog = {\n",
        "    'book_001': {\n",
        "        'title': 'Python Programming',\n",
        "        'author': 'John Smith',\n",
        "        'isbn': '978-0123456789',\n",
        "        'available': True,\n",
        "        'category': 'Technology'\n",
        "    },\n",
        "    'book_002': {\n",
        "        'title': 'Business Analytics',\n",
        "        'author': 'Jane Doe',\n",
        "        'isbn': '978-0987654321',\n",
        "        'available': False,\n",
        "        'category': 'Business'\n",
        "    },\n",
        "    'book_003': {\n",
        "        'title': 'Digital Marketing',\n",
        "        'author': 'Mike Johnson',\n",
        "        'isbn': '978-1234567890',\n",
        "        'available': True,\n",
        "        'category': 'Business'\n",
        "    }\n",
        "}\n",
        "\n",
        "print(\"Library catalog loaded successfully!\")\n",
        "print(f\"Number of books in catalog: {len(library_catalog)}\")"
      ],
      "execution_count": null,
      "outputs": []
    },
    {
      "cell_type": "markdown",
      "metadata": {
        "id": "b9PKThkJazHu"
      },
      "source": [
        "## Exercise 1: Understanding Dictionary Access\n",
        "\n",
        "### 1.1 Basic Access Patterns\n",
        "\n",
        "First, let's explore different ways to access dictionary data:"
      ]
    },
    {
      "cell_type": "code",
      "metadata": {
        "id": "itdhAewqazHv"
      },
      "source": [
        "# Direct access (risky if key doesn't exist)\n",
        "print(\"=== Direct Access ===\")\n",
        "print(f\"Title of book_001: {library_catalog['book_001']['title']}\")\n",
        "\n",
        "# This would cause an error if book doesn't exist:\n",
        "# print(library_catalog['book_999']['title'])  # KeyError!"
      ],
      "execution_count": null,
      "outputs": []
    },
    {
      "cell_type": "code",
      "metadata": {
        "id": "2jCcJW3CazHw"
      },
      "source": [
        "# Safe access using .get() method\n",
        "print(\"=== Safe Access with .get() ===\")\n",
        "book = library_catalog.get('book_001')\n",
        "if book:\n",
        "    print(f\"Title: {book['title']}\")\n",
        "    print(f\"Author: {book['author']}\")\n",
        "    print(f\"Available: {book['available']}\")\n",
        "else:\n",
        "    print(\"Book not found\")"
      ],
      "execution_count": null,
      "outputs": []
    },
    {
      "cell_type": "markdown",
      "metadata": {
        "id": "xWh8YqZuazHw"
      },
      "source": [
        "### 1.2 Your Turn: Practice Safe Access\n",
        "\n",
        "**Task:** Write code to safely check if 'book_004' exists. If it does, print all its information. If not, print \"Book not found\"."
      ]
    },
    {
      "cell_type": "code",
      "metadata": {
        "id": "PgnCcciZazHx"
      },
      "source": [
        "# Your code here:\n",
        "book_id = 'book_004'\n",
        "\n",
        "# TODO: Use .get() to safely access the book\n",
        "# TODO: If book exists, print its details\n",
        "# TODO: If book doesn't exist, print appropriate message"
      ],
      "execution_count": null,
      "outputs": []
    },
    {
      "cell_type": "markdown",
      "metadata": {
        "id": "m2ZJDRReazHx"
      },
      "source": [
        "**Solution (run this after trying above):**"
      ]
    },
    {
      "cell_type": "code",
      "metadata": {
        "id": "fRP64fFGazHy"
      },
      "source": [
        "# Solution\n",
        "book_id = 'book_004'\n",
        "book = library_catalog.get(book_id)\n",
        "\n",
        "if book:\n",
        "    print(f\"Found book: {book['title']}\")\n",
        "    print(f\"Author: {book['author']}\")\n",
        "    print(f\"ISBN: {book['isbn']}\")\n",
        "    print(f\"Category: {book['category']}\")\n",
        "    print(f\"Available: {book['available']}\")\n",
        "else:\n",
        "    print(f\"Book with ID '{book_id}' not found\")"
      ],
      "execution_count": null,
      "outputs": []
    },
    {
      "cell_type": "markdown",
      "metadata": {
        "id": "XT66QwRBazHy"
      },
      "source": [
        "## Exercise 2: Dictionary Methods Practice\n",
        "\n",
        "### 2.1 Using .keys(), .values(), and .items()"
      ]
    },
    {
      "cell_type": "code",
      "metadata": {
        "id": "6jjbmR2dazHz"
      },
      "source": [
        "print(\"=== Dictionary Methods Demo ===\")\n",
        "\n",
        "# Get all book IDs\n",
        "print(\"All book IDs:\")\n",
        "for book_id in library_catalog.keys():\n",
        "    print(f\"- {book_id}\")\n",
        "\n",
        "print(\"\\nAll book information:\")\n",
        "for book_info in library_catalog.values():\n",
        "    print(f\"- {book_info['title']} by {book_info['author']}\")\n",
        "\n",
        "print(\"\\nUsing .items() for key-value pairs:\")\n",
        "for book_id, book_info in library_catalog.items():\n",
        "    status = \"Available\" if book_info['available'] else \"Checked out\"\n",
        "    print(f\"- {book_id}: {book_info['title']} ({status})\")"
      ],
      "execution_count": null,
      "outputs": []
    },
    {
      "cell_type": "markdown",
      "metadata": {
        "id": "Nm10uxMTazHz"
      },
      "source": [
        "### 2.2 Your Turn: Analysis Challenges\n",
        "\n",
        "Complete these challenges using appropriate dictionary methods:"
      ]
    },
    {
      "cell_type": "code",
      "metadata": {
        "id": "cDiLk6QmazHz"
      },
      "source": [
        "# Challenge 1: Print all book titles\n",
        "print(\"=== Challenge 1: All Book Titles ===\")\n",
        "# Your code here:\n"
      ],
      "execution_count": null,
      "outputs": []
    },
    {
      "cell_type": "code",
      "metadata": {
        "id": "YPICK-5DazH0"
      },
      "source": [
        "# Challenge 2: Count available books\n",
        "print(\"=== Challenge 2: Available Books Count ===\")\n",
        "available_count = 0\n",
        "# Your code here:\n",
        "\n",
        "\n",
        "print(f\"Available books: {available_count}\")"
      ],
      "execution_count": null,
      "outputs": []
    },
    {
      "cell_type": "code",
      "metadata": {
        "id": "EW3VK20razH0"
      },
      "source": [
        "# Challenge 3: List all unique categories\n",
        "print(\"=== Challenge 3: Unique Categories ===\")\n",
        "categories = set()  # Use a set to store unique values\n",
        "# Your code here:\n",
        "\n",
        "\n",
        "print(f\"Categories: {list(categories)}\")"
      ],
      "execution_count": null,
      "outputs": []
    },
    {
      "cell_type": "code",
      "metadata": {
        "id": "YLqkaKnuazH1"
      },
      "source": [
        "# Challenge 4: Find books by specific author\n",
        "print(\"=== Challenge 4: Books by Author ===\")\n",
        "search_author = \"Jane Doe\"\n",
        "matching_books = []\n",
        "# Your code here:\n",
        "\n",
        "\n",
        "print(f\"Books by {search_author}:\")\n",
        "for book in matching_books:\n",
        "    print(f\"- {book}\")"
      ],
      "execution_count": null,
      "outputs": []
    },
    {
      "cell_type": "markdown",
      "metadata": {
        "id": "0opc41TUazH1"
      },
      "source": [
        "**Solutions (run after attempting above):**"
      ]
    },
    {
      "cell_type": "code",
      "metadata": {
        "id": "P_AQNDY4azH2"
      },
      "source": [
        "print(\"=== SOLUTIONS ===\")\n",
        "\n",
        "# Solution 1: All book titles\n",
        "print(\"1. All Book Titles:\")\n",
        "for book_info in library_catalog.values():\n",
        "    print(f\"- {book_info['title']}\")\n",
        "\n",
        "print(\"\\n2. Available Books Count:\")\n",
        "available_count = 0\n",
        "for book_info in library_catalog.values():\n",
        "    if book_info['available']:\n",
        "        available_count += 1\n",
        "print(f\"Available books: {available_count}\")\n",
        "\n",
        "print(\"\\n3. Unique Categories:\")\n",
        "categories = set()\n",
        "for book_info in library_catalog.values():\n",
        "    categories.add(book_info['category'])\n",
        "print(f\"Categories: {list(categories)}\")\n",
        "\n",
        "print(\"\\n4. Books by Jane Doe:\")\n",
        "search_author = \"Jane Doe\"\n",
        "for book_info in library_catalog.values():\n",
        "    if book_info['author'] == search_author:\n",
        "        print(f\"- {book_info['title']}\")"
      ],
      "execution_count": null,
      "outputs": []
    },
    {
      "cell_type": "markdown",
      "metadata": {
        "id": "LARklmI3azH2"
      },
      "source": [
        "## Exercise 3: Working with Nested Dictionaries\n",
        "\n",
        "### 3.1 Understanding the Structure\n",
        "\n",
        "Our library catalog uses nested dictionaries. Let's explore this structure:"
      ]
    },
    {
      "cell_type": "code",
      "metadata": {
        "id": "kKHyGhJpazH3"
      },
      "source": [
        "print(\"=== Understanding Nested Structure ===\")\n",
        "\n",
        "# Access pattern: outer_dict[key1][key2]\n",
        "book = library_catalog['book_001']\n",
        "print(f\"Book object: {book}\")\n",
        "print(f\"Book title: {book['title']}\")\n",
        "\n",
        "# Or in one line:\n",
        "print(f\"Direct nested access: {library_catalog['book_001']['title']}\")"
      ],
      "execution_count": null,
      "outputs": []
    },
    {
      "cell_type": "markdown",
      "metadata": {
        "id": "JRGyR_AqazH3"
      },
      "source": [
        "### 3.2 Adding New Books\n",
        "\n",
        "Let's practice adding new books to our catalog:"
      ]
    },
    {
      "cell_type": "code",
      "metadata": {
        "id": "6Glk_o4CazH3"
      },
      "source": [
        "def add_book(catalog, book_id, title, author, isbn, category):\n",
        "    \"\"\"Add a new book to the catalog\"\"\"\n",
        "    catalog[book_id] = {\n",
        "        'title': title,\n",
        "        'author': author,\n",
        "        'isbn': isbn,\n",
        "        'available': True,  # New books are available by default\n",
        "        'category': category\n",
        "    }\n",
        "    print(f\"Added: {title} by {author}\")\n",
        "\n",
        "# Test the function\n",
        "add_book(library_catalog, 'book_004', 'Data Science Basics',\n",
        "         'Amy Wilson', '978-1122334455', 'Technology')\n",
        "\n",
        "# Verify it was added\n",
        "print(f\"\\nCatalog now has {len(library_catalog)} books\")"
      ],
      "execution_count": null,
      "outputs": []
    },
    {
      "cell_type": "markdown",
      "metadata": {
        "id": "qHxv1nIpazH4"
      },
      "source": [
        "### 3.3 Your Turn: Implement Library Functions\n",
        "\n",
        "Complete these functions:"
      ]
    },
    {
      "cell_type": "code",
      "metadata": {
        "id": "nspu3SsOazH4"
      },
      "source": [
        "def checkout_book(catalog, book_id):\n",
        "    \"\"\"Mark a book as checked out\"\"\"\n",
        "    # TODO: Use .get() to safely access the book\n",
        "    # TODO: If book exists and is available, mark as unavailable\n",
        "    # TODO: Print appropriate success or error message\n",
        "    pass\n",
        "\n",
        "# Test your function\n",
        "checkout_book(library_catalog, 'book_001')\n",
        "checkout_book(library_catalog, 'book_999')  # Should handle gracefully"
      ],
      "execution_count": null,
      "outputs": []
    },
    {
      "cell_type": "code",
      "metadata": {
        "id": "NKHkef2tazH5"
      },
      "source": [
        "def return_book(catalog, book_id):\n",
        "    \"\"\"Mark a book as returned (available)\"\"\"\n",
        "    # TODO: Implement this function\n",
        "    pass\n",
        "\n",
        "# Test your function\n",
        "return_book(library_catalog, 'book_002')"
      ],
      "execution_count": null,
      "outputs": []
    },
    {
      "cell_type": "code",
      "metadata": {
        "id": "M6uFcfT_azH5"
      },
      "source": [
        "def search_books(catalog, search_term):\n",
        "    \"\"\"Find books that match the search term in title or author\"\"\"\n",
        "    # TODO: Return a list of matching books\n",
        "    # TODO: Search should be case-insensitive\n",
        "    matches = []\n",
        "\n",
        "    # Your code here\n",
        "\n",
        "    return matches\n",
        "\n",
        "# Test your function\n",
        "results = search_books(library_catalog, 'python')\n",
        "print(f\"Search results for 'python': {results}\")"
      ],
      "execution_count": null,
      "outputs": []
    },
    {
      "cell_type": "markdown",
      "metadata": {
        "id": "fKmkopBRazH5"
      },
      "source": [
        "**Solutions:**"
      ]
    },
    {
      "cell_type": "code",
      "metadata": {
        "id": "GirFWbYBazH6"
      },
      "source": [
        "# Complete solutions\n",
        "def checkout_book(catalog, book_id):\n",
        "    \"\"\"Mark a book as checked out\"\"\"\n",
        "    book = catalog.get(book_id)\n",
        "    if book:\n",
        "        if book['available']:\n",
        "            book['available'] = False\n",
        "            print(f\"Successfully checked out: {book['title']}\")\n",
        "        else:\n",
        "            print(f\"Book '{book['title']}' is already checked out\")\n",
        "    else:\n",
        "        print(f\"Book with ID '{book_id}' not found\")\n",
        "\n",
        "def return_book(catalog, book_id):\n",
        "    \"\"\"Mark a book as returned (available)\"\"\"\n",
        "    book = catalog.get(book_id)\n",
        "    if book:\n",
        "        if not book['available']:\n",
        "            book['available'] = True\n",
        "            print(f\"Successfully returned: {book['title']}\")\n",
        "        else:\n",
        "            print(f\"Book '{book['title']}' was not checked out\")\n",
        "    else:\n",
        "        print(f\"Book with ID '{book_id}' not found\")\n",
        "\n",
        "def search_books(catalog, search_term):\n",
        "    \"\"\"Find books that match the search term in title or author\"\"\"\n",
        "    matches = []\n",
        "    search_lower = search_term.lower()\n",
        "\n",
        "    for book_info in catalog.values():\n",
        "        if (search_lower in book_info['title'].lower() or\n",
        "            search_lower in book_info['author'].lower()):\n",
        "            matches.append(book_info['title'])\n",
        "\n",
        "    return matches\n",
        "\n",
        "# Test all functions\n",
        "print(\"=== Testing Complete Functions ===\")\n",
        "checkout_book(library_catalog, 'book_003')\n",
        "return_book(library_catalog, 'book_002')\n",
        "results = search_books(library_catalog, 'business')\n",
        "print(f\"Books matching 'business': {results}\")"
      ],
      "execution_count": null,
      "outputs": []
    },
    {
      "cell_type": "markdown",
      "metadata": {
        "id": "POk-clq1azH7"
      },
      "source": [
        "## Exercise 4: Advanced Dictionary Operations\n",
        "\n",
        "### 4.1 Generating Reports"
      ]
    },
    {
      "cell_type": "code",
      "metadata": {
        "id": "AmNxxpPHazH7"
      },
      "source": [
        "def generate_availability_report(catalog):\n",
        "    \"\"\"Generate a report showing available vs checked out books\"\"\"\n",
        "    available = []\n",
        "    checked_out = []\n",
        "\n",
        "    for book_id, book_info in catalog.items():\n",
        "        if book_info['available']:\n",
        "            available.append(f\"{book_id}: {book_info['title']}\")\n",
        "        else:\n",
        "            checked_out.append(f\"{book_id}: {book_info['title']}\")\n",
        "\n",
        "    print(\"=== LIBRARY AVAILABILITY REPORT ===\")\n",
        "    print(f\"\\nAVAILABLE BOOKS ({len(available)}):\")\n",
        "    for book in available:\n",
        "        print(f\"  ✅ {book}\")\n",
        "\n",
        "    print(f\"\\nCHECKED OUT BOOKS ({len(checked_out)}):\")\n",
        "    for book in checked_out:\n",
        "        print(f\"  📚 {book}\")\n",
        "\n",
        "# Generate the report\n",
        "generate_availability_report(library_catalog)"
      ],
      "execution_count": null,
      "outputs": []
    },
    {
      "cell_type": "markdown",
      "metadata": {
        "id": "Pk8EdDB_azH8"
      },
      "source": [
        "### 4.2 Category Analysis"
      ]
    },
    {
      "cell_type": "code",
      "metadata": {
        "id": "pChBIJA9azH9"
      },
      "source": [
        "def analyze_by_category(catalog):\n",
        "    \"\"\"Analyze books by category\"\"\"\n",
        "    category_stats = {}\n",
        "\n",
        "    for book_info in catalog.values():\n",
        "        category = book_info['category']\n",
        "        if category not in category_stats:\n",
        "            category_stats[category] = {'total': 0, 'available': 0}\n",
        "\n",
        "        category_stats[category]['total'] += 1\n",
        "        if book_info['available']:\n",
        "            category_stats[category]['available'] += 1\n",
        "\n",
        "    print(\"=== CATEGORY ANALYSIS ===\")\n",
        "    for category, stats in category_stats.items():\n",
        "        print(f\"\\n{category}:\")\n",
        "        print(f\"  Total books: {stats['total']}\")\n",
        "        print(f\"  Available: {stats['available']}\")\n",
        "        print(f\"  Checked out: {stats['total'] - stats['available']}\")\n",
        "\n",
        "# Run the analysis\n",
        "analyze_by_category(library_catalog)"
      ],
      "execution_count": null,
      "outputs": []
    },
    {
      "cell_type": "markdown",
      "metadata": {
        "id": "X3w5DwunazH-"
      },
      "source": [
        "## 🎯 Key Takeaways\n",
        "\n",
        "After completing this exercise, you should understand:\n",
        "\n",
        "1. **Safe Dictionary Access**: Always use `.get()` when a key might not exist\n",
        "2. **Dictionary Methods**: Use `.keys()`, `.values()`, and `.items()` for different iteration needs\n",
        "3. **Nested Dictionaries**: Access nested data with `dict[key1][key2]` pattern\n",
        "4. **Real-World Applications**: Dictionaries are perfect for structured data like catalogs, profiles, and records\n",
        "\n",
        "## 🚀 Next Steps\n",
        "\n",
        "These dictionary skills will be essential for your mini-project where you'll apply similar concepts to financial data management. You'll see how dictionaries make code more readable, maintainable, and powerful compared to parallel lists.\n",
        "\n",
        "**Remember**:\n",
        "- Use meaningful key names\n",
        "- Always handle missing keys gracefully\n",
        "- Group related data together in nested structures\n",
        "- Choose the right dictionary method for each task\n",
        "\n",
        "## 📝 Reflection Questions\n",
        "\n",
        "1. How do dictionaries make the library system more organized than if we used lists?\n",
        "2. Why is `.get()` method safer than direct key access?\n",
        "3. When would you use `.items()` vs `.values()` vs `.keys()`?\n",
        "4. How could you extend this system to handle book reservations or due dates?"
      ]
    }
  ],
  "metadata": {
    "kernelspec": {
      "display_name": "Python 3",
      "language": "python",
      "name": "python3"
    },
    "colab": {
      "provenance": [],
      "include_colab_link": true
    }
  },
  "nbformat": 4,
  "nbformat_minor": 0
}