{
  "cells": [
    {
      "cell_type": "markdown",
      "metadata": {
        "id": "view-in-github",
        "colab_type": "text"
      },
      "source": [
        "<a href=\"https://colab.research.google.com/github/michael-borck/ISYS2001/blob/main/Module%2003%20-%20Making%20Computers%20Think/notebook2_complex_decisions.ipynb\" target=\"_parent\"><img src=\"https://colab.research.google.com/assets/colab-badge.svg\" alt=\"Open In Colab\"/></a>"
      ]
    },
    {
      "cell_type": "markdown",
      "metadata": {
        "id": "NPAuDnOHTAus"
      },
      "source": [
        "# Notebook 2: Complex Decision Logic with AI\n",
        "\n",
        "## 📝 How to Use This Notebook\n",
        "\n",
        "> **Text cells like this:** Double-click to edit your thoughts, then Shift+Enter to save\n",
        "\n",
        "```\n",
        "**Code cells:** Write your Python code and run with Ctrl+Enter  \n",
        "```\n",
        "\n",
        "**Your notebook, your learning:** Edit anything, experiment freely!"
      ]
    },
    {
      "cell_type": "raw",
      "metadata": {
        "id": "l2IMkJnkTAuz"
      },
      "source": [
        "---\n",
        "\n",
        "## Thinking Through Multi-Factor Decisions\n",
        "\n",
        "**Time**: 45 minutes\n",
        "**Goal**: Learn to analyse complex problems with multiple conditions and collaborate effectively with AI\n",
        "\n",
        "---"
      ]
    },
    {
      "cell_type": "markdown",
      "metadata": {
        "id": "sKOF7BX-TAu1"
      },
      "source": [
        "## The Real-World Challenge\n",
        "\n",
        "Most interesting decisions involve multiple factors:\n",
        "\n",
        "- Should Netflix recommend this movie? (Consider: user history, ratings, genre preferences, time of day)\n",
        "- Should the bank approve this loan? (Consider: credit score, income, employment history, debt ratio)\n",
        "- Should the game unlock this achievement? (Consider: level, score, time, special actions)\n",
        "\n",
        "Today you'll learn to think through these multi-factor problems systematically."
      ]
    },
    {
      "cell_type": "raw",
      "metadata": {
        "id": "cu9bmOi3TAu2"
      },
      "source": [
        "---\n",
        "\n",
        "## Activity 1: Problem Decomposition (15 minutes)\n",
        "\n",
        "### The Challenge: Design a Smart Gaming Achievement System\n",
        "\n",
        "Imagine you're designing achievements for a mobile game. Instead of giving you the rules, you need to **design them yourself**.\n",
        "\n",
        "**Step 1: Brainstorm Achievement Ideas** (5 minutes)\n",
        "\n",
        "Think of 2-3 interesting achievements that would require multiple conditions. For example:\n",
        "\n",
        "- \"Speed Demon\" - fast completion + high score\n",
        "- \"Perfectionist\" - no mistakes + bonus objectives\n",
        "- \"Night Owl\" - playing late + consecutive days\n",
        "\n",
        "**Write your achievement ideas (double-click to edit):**\n",
        "\n",
        "Achievement 1:\n",
        "\n",
        "Requires:\n",
        "\n",
        "Achievement 2:\n",
        "\n",
        "Requires:\n",
        "\n",
        "**Step 2: Define the Logic** (5 minutes)\n",
        "\n",
        "Pick one achievement and think through the exact conditions:\n",
        "\n",
        "- What specific numbers/thresholds make sense?\n",
        "- Should it be AND logic (all conditions) or OR logic (any condition)?\n",
        "- Are there any special cases or exceptions?\n",
        "\n",
        "**Write your detailed logic (double-click to edit):**\n",
        "\n",
        "Achievement:\n",
        "\n",
        "Condition 1:\n",
        "\n",
        "Condition 2:\n",
        "\n",
        "Logic connector (AND/OR):\n",
        "\n",
        "Special cases:\n",
        "\n",
        "**Step 3: Test Your Design** (5 minutes)\n",
        "\n",
        "Create some test scenarios:\n",
        "\n",
        "- Player who clearly should earn it\n",
        "- Player who clearly shouldn't earn it\n",
        "- Borderline case that's tricky to decide\n",
        "\n",
        "**Test scenarios (double-click to edit):**\n",
        "\n",
        "Should earn it:\n",
        "\n",
        "Shouldn't earn it:\n",
        "\n",
        "Borderline case:\n",
        "\n",
        "---"
      ]
    },
    {
      "cell_type": "markdown",
      "metadata": {
        "id": "c2HLMtbiTAu3"
      },
      "source": [
        "### AI Collaboration Strategy 1: Design Review\n",
        "\n",
        "**Good Approach**:\n",
        "\n",
        "> \"I'm designing a gaming achievement with these requirements: [your requirements]. Does this logic make sense? What edge cases am I missing?\"\n",
        "\n",
        "**Less Effective**:\n",
        "\n",
        "> \"Create a gaming achievement system\"\n",
        "\n",
        "**Try it**: Get AI feedback on your achievement design. What suggestions did it make?"
      ]
    },
    {
      "cell_type": "markdown",
      "source": [
        "---\n",
        "\n",
        "## Activity 2: Logic Implementation Challenge (20 minutes)\n",
        "\n",
        "### Your Mission: Build a College Application Decision System\n",
        "\n",
        "Universities use complex criteria to make admission decisions. Your job is to design and implement a fair, logical system.\n",
        "\n",
        "**Step 1: Research and Design** (8 minutes)\n",
        "\n",
        "Think about what factors matter for college admissions:\n",
        "\n",
        "- Academic performance (GPA, test scores)\n",
        "- Extracurricular activities\n",
        "- Personal essays/interviews\n",
        "- Special circumstances\n",
        "\n",
        "**Design your system:**\n",
        "\n",
        "1. Choose 3-4 factors that matter most\n",
        "2. Decide how they should combine (AND/OR logic)\n",
        "3. Define specific thresholds or categories\n",
        "4. Consider edge cases and tie-breakers\n"
      ],
      "metadata": {
        "id": "BHh59uG5TaPF"
      }
    },
    {
      "cell_type": "markdown",
      "metadata": {
        "id": "a-hcY5TGTAu4"
      },
      "source": [
        "> **Write your admission criteria (double-click to edit):**\n",
        "\n",
        "```\n",
        "Factor 1:\n",
        "\n",
        "Factor 2:\n",
        "\n",
        "Factor 3:\n",
        "\n",
        "Decision logic:\n",
        "```"
      ]
    },
    {
      "cell_type": "markdown",
      "source": [
        "\n",
        "**Step 2: Implement Your Logic** (12 minutes)\n",
        "\n",
        "Now code your admissions system. You can:\n",
        "\n",
        "- Start coding yourself and ask AI for help with syntax\n",
        "- Design the logic first, then ask AI to help implement it\n",
        "- Code it yourself, then ask AI to review it\n",
        "\n",
        "**Your implementation:**"
      ],
      "metadata": {
        "id": "jmwFN674TepM"
      }
    },
    {
      "cell_type": "code",
      "metadata": {
        "id": "PSnf-AxdTAu4"
      },
      "source": [
        "# College Admissions Decision System\n",
        "# Your code here\n"
      ],
      "execution_count": null,
      "outputs": []
    },
    {
      "cell_type": "markdown",
      "metadata": {
        "id": "Eba3rpfMTAu5"
      },
      "source": [
        "### AI Collaboration Strategy 2: Implementation Review\n",
        "\n",
        "**Effective AI Collaboration**:\n",
        "\n",
        "1. **Logic Clarification**: \"I want to check multiple conditions where at least 2 out of 3 must be true. What's the best way to structure this in Python?\"\n",
        "\n",
        "2. **Code Review**: \"Here's my admissions logic: [code]. Does this implement what I intended? Are there any logic errors?\"\n",
        "\n",
        "3. **Improvement Suggestions**: \"My system works but feels too rigid. How might I make the decision logic more nuanced?\"\n",
        "\n",
        "**Try one of these approaches with your code.**"
      ]
    },
    {
      "cell_type": "markdown",
      "metadata": {
        "id": "yuXpbe6DTAu6"
      },
      "source": [
        "---\n",
        "\n",
        "## Activity 3: Debugging Complex Logic (10 minutes)\n",
        "\n",
        "### The Mystery: Why Isn't This Working?\n",
        "\n",
        "A student created this scholarship eligibility system, but it's not working as expected:"
      ]
    },
    {
      "cell_type": "code",
      "metadata": {
        "id": "P5Nrk5-LTAu6"
      },
      "source": [
        "print(\"=== Scholarship Eligibility Checker ===\")\n",
        "\n",
        "gpa = float(input(\"Enter GPA (0.0-4.0): \"))\n",
        "community_hours = int(input(\"Community service hours: \"))\n",
        "financial_need = input(\"Have financial need? (yes/no): \").lower()\n",
        "essay_score = int(input(\"Essay score (1-10): \"))\n",
        "\n",
        "# Should be eligible if:\n",
        "# - GPA 3.0+ AND (community hours 50+ OR financial need) AND essay 7+\n",
        "\n",
        "if gpa >= 3.0 and community_hours >= 50 or financial_need == \"yes\" and essay_score >= 7:\n",
        "    print(\"Eligible for scholarship!\")\n",
        "else:\n",
        "    print(\"Not eligible\")"
      ],
      "execution_count": null,
      "outputs": []
    },
    {
      "cell_type": "markdown",
      "metadata": {
        "id": "yL4GmCb-TAu7"
      },
      "source": [
        "**Your debugging process:**\n",
        "\n",
        "**Step 1: Understand the Intent**\n",
        "\n",
        "What is this code supposed to do? Write the logic in plain English (double-click to edit):\n",
        "\n",
        "Should be eligible if:\n",
        "\n",
        "**Step 2: Trace Through the Logic**\n",
        "\n",
        "What does this condition actually check?\n",
        "\n",
        "```python\n",
        "gpa >= 3.0 and community_hours >= 50 or financial_need == \"yes\" and essay_score >= 7\n",
        "```\n",
        "\n",
        "Think about operator precedence. What gets evaluated first?\n",
        "\n",
        "**Step 3: Identify the Problem (double-click to edit):**\n",
        "\n",
        "The problem is:\n",
        "\n",
        "The fix is:\n",
        "\n",
        "**Step 4: Write the Corrected Version**"
      ]
    },
    {
      "cell_type": "code",
      "metadata": {
        "id": "OEvhueosTAu7"
      },
      "source": [
        "# Your corrected code here\n"
      ],
      "execution_count": null,
      "outputs": []
    },
    {
      "cell_type": "markdown",
      "metadata": {
        "id": "_ZOOQONzTAu7"
      },
      "source": [
        "---\n",
        "\n",
        "### AI Collaboration Strategy 3: Debugging Partnership\n",
        "\n",
        "**Instead of**: \"Fix this code\"\n",
        "\n",
        "**Try**: \"I have code that should check (condition A AND (condition B OR condition C) AND condition D), but it's not working correctly. Can you help me understand what's wrong with the logic?\"\n",
        "\n",
        "**Follow up**: \"Can you explain how operator precedence affects this condition?\"\n",
        "\n",
        "---\n",
        "\n",
        "## Advanced Challenge: Design Your Own System (Optional)\n",
        "\n",
        "Choose a real-world decision system that interests you:\n",
        "\n",
        "- Music recommendation algorithm\n",
        "- Job application screening\n",
        "- Restaurant recommendation\n",
        "- Course enrollment priority\n",
        "- Dating app matching\n",
        "\n",
        "**Your challenge:**\n",
        "\n",
        "1. Define the problem clearly\n",
        "2. Identify the key factors\n",
        "3. Design the decision logic\n",
        "4. Implement in Python\n",
        "5. Test with realistic scenarios\n",
        "6. Use AI as a thinking partner, not a code generator\n",
        "\n",
        "---\n",
        "\n"
      ]
    },
    {
      "cell_type": "markdown",
      "source": [
        "## Reflection Questions\n",
        "\n",
        "> **About Problem-Solving (double-click to edit your answers):**\n",
        "\n",
        "```\n",
        "1. How did breaking complex problems into factors help your thinking?\n",
        "\n",
        "\n",
        "2. What was harder - defining the logic or implementing it in code?\n",
        "\n",
        "\n",
        "3. How do you decide when to use AND vs OR vs more complex combinations?\n",
        "\n",
        "\n",
        "**About AI Collaboration:**\n",
        "\n",
        "4. When was AI most helpful in your problem-solving process?\n",
        "\n",
        "\n",
        "5. What's the difference between asking AI to solve a problem vs. asking AI to help you think through a problem?\n",
        "\n",
        "\n",
        "6. How do you verify that AI's suggestions match your intent?\n",
        "\n",
        "\n",
        "**About Real-World Applications:**\n",
        "\n",
        "7. Can you think of a decision system you use daily that probably involves complex logic?\n",
        "\n",
        "\n",
        "8. What makes a decision system fair and transparent?\n",
        "```"
      ],
      "metadata": {
        "id": "MRDuq8_dTzGJ"
      }
    },
    {
      "cell_type": "markdown",
      "source": [
        "\n",
        "---\n",
        "\n",
        "## Key Takeaways\n",
        "\n",
        "🧠 **Complex Problem-Solving**:\n",
        "\n",
        "- Break multi-factor decisions into clear components\n",
        "- Define logic relationships before coding\n",
        "- Test with realistic and edge-case scenarios\n",
        "- Use parentheses to make complex logic clear\n",
        "\n",
        "🤖 **Advanced AI Partnership**:\n",
        "\n",
        "- Use AI to review your logic design, not create it\n",
        "- Ask AI to explain concepts you don't understand\n",
        "- Collaborate on implementation after you understand the problem\n",
        "- Use AI to help test and debug your solutions\n",
        "\n",
        "⚡ **Professional Skills**:\n",
        "\n",
        "- Document your decision logic clearly\n",
        "- Consider edge cases and fairness\n",
        "- Test systematically with multiple scenarios\n",
        "- Make complex logic readable and maintainable\n",
        "\n",
        "**You're ready to tackle real-world decision problems when you can:**\n",
        "\n",
        "- Analyse multi-factor problems systematically\n",
        "- Design fair and logical decision systems\n",
        "- Implement complex logic clearly in code\n",
        "- Partner with AI effectively throughout the process\n",
        "\n",
        "**Next**: Apply these problem-solving patterns to completely different domains - like personal finance! 💰"
      ],
      "metadata": {
        "id": "ZstKrDUXTt3r"
      }
    }
  ],
  "metadata": {
    "kernelspec": {
      "display_name": "Python 3",
      "language": "python",
      "name": "python3"
    },
    "colab": {
      "provenance": [],
      "include_colab_link": true
    }
  },
  "nbformat": 4,
  "nbformat_minor": 0
}