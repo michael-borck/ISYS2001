{
  "cells": [
    {
      "cell_type": "markdown",
      "metadata": {
        "id": "view-in-github",
        "colab_type": "text"
      },
      "source": [
        "<a href=\"https://colab.research.google.com/github/michael-borck/ISYS2001/blob/main/Module%2003%20-%20Making%20Computers%20Think/notebook1_understanding_decisions.ipynb\" target=\"_parent\"><img src=\"https://colab.research.google.com/assets/colab-badge.svg\" alt=\"Open In Colab\"/></a>"
      ]
    },
    {
      "cell_type": "markdown",
      "metadata": {
        "id": "zA9Zf10yQQ0H"
      },
      "source": [
        "# Notebook 1: Understanding Decisions with AI\n",
        "\n",
        "## 📝 How to Use This Notebook\n",
        "\n",
        "**Text cells like this:** Double-click to edit your thoughts, then Shift+Enter to save\n",
        "\n",
        "**Code cells:** Write your Python code and run with Ctrl+Enter  \n",
        "\n",
        "**Your notebook, your learning:** Edit anything, experiment freely!"
      ]
    },
    {
      "cell_type": "markdown",
      "metadata": {
        "id": "SCx_UiOyQQ0Q"
      },
      "source": [
        "## The Core Challenge\n",
        "\n",
        "Today you'll tackle a common programming problem: **How do programs make decisions?**\n",
        "\n",
        "But here's the twist: Instead of following recipes, you'll learn to **think through the problem first**, then figure out how to express your thinking in code.\n",
        "\n",
        "---\n",
        "\n",
        "## Activity 1: Problem Analysis Before Coding (15 minutes)\n",
        "\n",
        "### The Scenario: Academic Standing System\n",
        "\n",
        "Your university needs a system to classify students based on their GPA. Before writing any code, let's think through this problem:\n",
        "\n",
        "**Step 1: Understanding the Problem**\n",
        "\n",
        "- What inputs do we need?\n",
        "- What outputs should we produce?\n",
        "- What are the decision points?"
      ]
    },
    {
      "cell_type": "markdown",
      "source": [
        "\n",
        "> **Write your analysis here (double-click this cell to edit):**\n",
        "\n",
        "```\n",
        "Input needed:\n",
        "\n",
        "Output needed:\n",
        "\n",
        "Decision points:\n",
        "```"
      ],
      "metadata": {
        "id": "sc-PoDFwQ99J"
      }
    },
    {
      "cell_type": "markdown",
      "source": [
        "**Step 2: Define the Logic**\n",
        "\n",
        "How should a university classify students? Think about this logically:\n",
        "\n",
        "- What GPA ranges make sense?\n",
        "- What should happen at boundary cases (exactly 3.0, exactly 3.5)?\n",
        "- What categories would be helpful for students?\n",
        "\n",
        "\n"
      ],
      "metadata": {
        "id": "fXrdwm6MRg3u"
      }
    },
    {
      "cell_type": "markdown",
      "source": [
        "**Design your classification system:**\n",
        "> Write your analysis here (double-click this cell to edit):\n",
        "\n",
        "```\n",
        "If GPA is _________, then status is _________\n",
        "If GPA is _________, then status is _________\n",
        "If GPA is _________, then status is _________\n",
        "```"
      ],
      "metadata": {
        "id": "SAac_znPRktG"
      }
    },
    {
      "cell_type": "markdown",
      "source": [
        "**Step 3: Test Your Logic**\n",
        "\n",
        "Before coding, test your thinking:\n",
        "\n",
        "- Student A has GPA 3.7 → What status?\n",
        "- Student B has GPA 2.9 → What status?  \n",
        "- Student C has GPA exactly 3.0 → What status?"
      ],
      "metadata": {
        "id": "LRxe3EJ-RwB7"
      }
    },
    {
      "cell_type": "markdown",
      "source": [
        "> **Write your predictions (double-click to edit):**\n",
        "\n",
        "```\n",
        "Student A (3.7):\n",
        "\n",
        "Student B (2.9):\n",
        "\n",
        "Student C (3.0):\n",
        "```"
      ],
      "metadata": {
        "id": "dxtX-483R0Op"
      }
    },
    {
      "cell_type": "markdown",
      "metadata": {
        "id": "ckoFOI-PQQ0S"
      },
      "source": [
        "---\n",
        "\n",
        "### AI Collaboration Checkpoint 1\n",
        "\n",
        "Now that you've thought through the problem, here's where AI can help:\n",
        "\n",
        "**Good AI Prompt**:\n",
        "\n",
        "> \"I've designed a GPA classification system with these ranges: [your ranges]. Can you help me write Python code that implements this logic using if/elif/else statements?\"\n",
        "\n",
        "**Less Helpful Prompt**:\n",
        "\n",
        "> \"Write a GPA calculator\"\n",
        "\n",
        "**Try it**: Use your preferred AI tool with your thoughtful prompt. Compare the AI's solution to your logic. Does it match your thinking?\n",
        "\n",
        "**Reflection**: What did the AI do differently? Was your logic clearer or was the AI's? Why?\n",
        "\n",
        "---\n",
        "\n",
        "## Activity 2: Independent Problem Solving (20 minutes)\n",
        "\n",
        "### Your Challenge: Design a Study Recommendation System\n",
        "\n",
        "A learning app wants to give students personalized study advice. Your job is to design the decision logic.\n",
        "\n",
        "**Step 1: Problem Definition** (5 minutes)\n",
        "\n",
        "Think about what factors should influence study recommendations:\n",
        "\n",
        "- How many hours has the student studied today?\n",
        "- What's their stress level?\n",
        "- When is their next exam?\n",
        "- How much sleep did they get?\n",
        "\n",
        "**Choose 2-3 factors that matter most to you and define your logic (double-click to edit):**\n",
        "\n",
        "My factors:\n",
        "\n",
        "My decision rules:\n",
        "\n",
        "**Step 2: Design Your Algorithm** (5 minutes)\n"
      ]
    },
    {
      "cell_type": "markdown",
      "source": [
        "> Create a flowchart or written logic for your system (double-click to edit):\n",
        "\n",
        "```\n",
        "IF _________ THEN recommend _________\n",
        "\n",
        "ELIF _________ THEN recommend _________\n",
        "\n",
        "ELSE recommend _________\n",
        "```\n"
      ],
      "metadata": {
        "id": "O7ZIgFy2SOFE"
      }
    },
    {
      "cell_type": "markdown",
      "source": [
        "**Step 3: Implement and Test** (10 minutes)\n",
        "\n",
        "Now write the Python code for your system. You can:\n",
        "\n",
        "- Try coding it yourself first\n",
        "- Use AI to help with syntax after you have your logic clear\n",
        "- Ask AI to review your approach\n",
        "\n",
        "**Code your solution here:**"
      ],
      "metadata": {
        "id": "dBWmPVBoSQ1Z"
      }
    },
    {
      "cell_type": "code",
      "metadata": {
        "id": "-TotIUVwQQ0V"
      },
      "source": [
        "# Your study recommendation system\n"
      ],
      "execution_count": null,
      "outputs": []
    },
    {
      "cell_type": "markdown",
      "metadata": {
        "id": "_Fn59LtNQQ0Y"
      },
      "source": [
        "**Test cases to try:**\n",
        "- Student who studied 6 hours, stress level 8\n",
        "- Student who studied 1 hour, stress level 3  \n",
        "- Student who studied 0 hours, exam tomorrow\n",
        "\n",
        "---\n",
        "\n",
        "### AI Collaboration Checkpoint 2\n",
        "\n",
        "**Effective AI Collaboration Strategy**:\n",
        "\n",
        "1. **Problem Analysis First**: \"I want to build X system that does Y. What factors should I consider?\"\n",
        "\n",
        "2. **Logic Review**: \"Here's my decision logic: [your logic]. Does this make sense? What am I missing?\"\n",
        "\n",
        "3. **Implementation Help**: \"Help me implement this logic in Python using if/elif/else\"\n",
        "\n",
        "4. **Testing Guidance**: \"What test cases should I use to verify this works correctly?\"\n",
        "\n",
        "**Try this approach**: Pick one of these collaboration points and try it with AI. What did you learn?\n",
        "\n",
        "---\n",
        "\n",
        "## Activity 3: Debugging and Refinement (10 minutes)\n",
        "\n",
        "### The Broken Code Challenge\n",
        "\n",
        "Here's some code that doesn't work as intended. Your job: **Figure out what's wrong by thinking through the logic first**."
      ]
    },
    {
      "cell_type": "code",
      "metadata": {
        "id": "JZBO4m2SQQ0a"
      },
      "source": [
        "student_gpa = 3.2\n",
        "\n",
        "if student_gpa >= 2.0:\n",
        "    status = \"Probation\"\n",
        "elif student_gpa >= 3.0:\n",
        "    status = \"Good Standing\"\n",
        "elif student_gpa >= 3.5:\n",
        "    status = \"Dean's List\"\n",
        "else:\n",
        "    status = \"Failing\"\n",
        "\n",
        "print(f\"Status: {status}\")"
      ],
      "execution_count": null,
      "outputs": []
    },
    {
      "cell_type": "markdown",
      "metadata": {
        "id": "UzeyELKgQQ0c"
      },
      "source": [
        "**Step 1: Trace Through the Logic**\n",
        "\n",
        "What happens when `student_gpa = 3.2`?\n",
        "\n",
        "- Check 1: `3.2 >= 2.0`? → (double-click to write your answer)\n",
        "- If true, what happens next? →\n",
        "\n",
        "**Step 2: Identify the Problem**\n",
        "\n",
        "What's wrong with this logic? Write your analysis (double-click to edit):\n",
        "\n",
        "The problem is:\n",
        "\n",
        "It happens because:\n",
        "\n",
        "**Step 3: Fix It**\n",
        "\n",
        "How would you fix this code? Write your corrected version:"
      ]
    },
    {
      "cell_type": "code",
      "metadata": {
        "id": "oX4-1RuMQQ0d"
      },
      "source": [
        "# Your fixed version here\n"
      ],
      "execution_count": null,
      "outputs": []
    },
    {
      "cell_type": "markdown",
      "metadata": {
        "id": "Cu1Zv1veQQ0e"
      },
      "source": [
        "**AI Collaboration Tip**:\n",
        "\n",
        "Instead of asking AI \"What's wrong with this code?\", try:\n",
        "\n",
        "> \"I have code that should give 'Good Standing' for GPA 3.2, but it gives 'Probation'. Can you help me understand why the logic isn't working as expected?\"\n",
        "\n",
        "This shows you've thought about the problem first!\n",
        "\n",
        "---\n",
        "\n",
        "## Reflection Questions\n",
        "\n",
        "**About Problem-Solving (double-click to edit your answers):**\n",
        "\n",
        "1. Was it harder to think through the logic first, or to jump straight into coding?\n",
        "\n",
        "2. How did breaking down the problem help (or not help) your understanding?\n",
        "\n",
        "\n",
        "**About AI Collaboration:**\n",
        "\n",
        "3. When was AI most helpful - during problem analysis, coding, or debugging?\n",
        "\n",
        "4. What's the difference between asking AI to solve a problem vs. asking AI to help you solve it?\n",
        "\n",
        "\n",
        "**About Learning:**\n",
        "\n",
        "5. Do you understand **why** your code works, or just **that** it works?\n",
        "\n",
        "6. Could you explain your decision logic to someone else?\n",
        "\n",
        "---\n",
        "\n",
        "## Key Takeaways\n",
        "\n",
        "🧠 **Computational Thinking**:\n",
        "\n",
        "- Always understand the problem before coding\n",
        "- Break complex decisions into clear rules\n",
        "- Test your logic with examples before implementing\n",
        "\n",
        "🤖 **AI Partnership**:\n",
        "\n",
        "- AI works best when you have clear requirements\n",
        "- Use AI to implement your ideas, not to think for you\n",
        "- Ask AI to explain concepts you don't understand\n",
        "\n",
        "🎯 **Decision Patterns**:\n",
        "\n",
        "- if/else for two choices\n",
        "- if/elif/else for multiple categories\n",
        "- Order matters in elif chains\n",
        "\n",
        "**You're ready for more complex problems when you can design the logic first, then implement it confidently!**"
      ]
    }
  ],
  "metadata": {
    "kernelspec": {
      "display_name": "Python 3",
      "language": "python",
      "name": "python3"
    },
    "colab": {
      "provenance": [],
      "include_colab_link": true
    }
  },
  "nbformat": 4,
  "nbformat_minor": 0
}