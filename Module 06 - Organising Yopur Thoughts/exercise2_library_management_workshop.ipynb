{
  "cells": [
    {
      "cell_type": "markdown",
      "metadata": {
        "id": "view-in-github",
        "colab_type": "text"
      },
      "source": [
        "<a href=\"https://colab.research.google.com/github/michael-borck/ISYS2001/blob/main/Module%2006%20-%20Organising%20Yopur%20Thoughts/exercise2_library_management_workshop.ipynb\" target=\"_parent\"><img src=\"https://colab.research.google.com/assets/colab-badge.svg\" alt=\"Open In Colab\"/></a>"
      ]
    },
    {
      "cell_type": "markdown",
      "metadata": {
        "id": "SQutsnN5bLia"
      },
      "source": [
        "## 🎯 Learning Objectives\n",
        "\n",
        "By completing this workshop, you will:\n",
        "- Build a complete library management system using dictionaries\n",
        "- Implement CRUD operations (Create, Read, Update, Delete)\n",
        "- Apply dictionary methods to solve real-world problems\n",
        "- Practice error handling and user feedback\n",
        "- Prepare for the mini-project by seeing dictionary applications in action\n",
        "\n",
        "## 📚 System Requirements\n",
        "\n",
        "Your library management system needs to support:\n",
        "\n",
        "1. **Add new books** to the catalog\n",
        "2. **Check out books** (mark as unavailable)  \n",
        "3. **Return books** (mark as available)\n",
        "4. **Search for books** by title or author\n",
        "5. **Generate reports** (available books, books by category)\n",
        "\n",
        "## 🏗️ Starting Infrastructure\n",
        "\n",
        "Let's begin with our enhanced library catalog:"
      ]
    },
    {
      "cell_type": "code",
      "metadata": {
        "id": "7bP34nPBbLic"
      },
      "source": [
        "# Enhanced library catalog with more books\n",
        "library_catalog = {\n",
        "    'book_001': {\n",
        "        'title': 'Python Programming',\n",
        "        'author': 'John Smith',\n",
        "        'isbn': '978-0123456789',\n",
        "        'available': True,\n",
        "        'category': 'Technology',\n",
        "        'year': 2023\n",
        "    },\n",
        "    'book_002': {\n",
        "        'title': 'Business Analytics',\n",
        "        'author': 'Jane Doe',\n",
        "        'isbn': '978-0987654321',\n",
        "        'available': False,\n",
        "        'category': 'Business',\n",
        "        'year': 2022\n",
        "    },\n",
        "    'book_003': {\n",
        "        'title': 'Digital Marketing Strategy',\n",
        "        'author': 'Mike Johnson',\n",
        "        'isbn': '978-1234567890',\n",
        "        'available': True,\n",
        "        'category': 'Business',\n",
        "        'year': 2024\n",
        "    },\n",
        "    'book_004': {\n",
        "        'title': 'Web Development Fundamentals',\n",
        "        'author': 'Sarah Wilson',\n",
        "        'isbn': '978-2345678901',\n",
        "        'available': True,\n",
        "        'category': 'Technology',\n",
        "        'year': 2023\n",
        "    },\n",
        "    'book_005': {\n",
        "        'title': 'Financial Management',\n",
        "        'author': 'David Brown',\n",
        "        'isbn': '978-3456789012',\n",
        "        'available': False,\n",
        "        'category': 'Finance',\n",
        "        'year': 2022\n",
        "    }\n",
        "}\n",
        "\n",
        "print(\"Enhanced library catalog loaded!\")\n",
        "print(f\"Total books: {len(library_catalog)}\")"
      ],
      "execution_count": null,
      "outputs": []
    },
    {
      "cell_type": "markdown",
      "metadata": {
        "id": "ssWlbcA7bLid"
      },
      "source": [
        "## Phase 1: Book Management Functions\n",
        "\n",
        "### 1.1 Adding New Books\n",
        "\n",
        "Let's create a robust function to add new books:"
      ]
    },
    {
      "cell_type": "code",
      "metadata": {
        "id": "bmDLci-hbLie"
      },
      "source": [
        "def add_book(catalog, book_id, title, author, isbn, category, year=2024):\n",
        "    \"\"\"\n",
        "    Add a new book to the catalog\n",
        "\n",
        "    Args:\n",
        "        catalog: The library catalog dictionary\n",
        "        book_id: Unique identifier for the book\n",
        "        title: Book title\n",
        "        author: Book author\n",
        "        isbn: Book ISBN\n",
        "        category: Book category\n",
        "        year: Publication year (default: 2024)\n",
        "    \"\"\"\n",
        "    # Check if book_id already exists\n",
        "    if book_id in catalog:\n",
        "        print(f\"Error: Book ID '{book_id}' already exists!\")\n",
        "        return False\n",
        "\n",
        "    # Add the new book\n",
        "    catalog[book_id] = {\n",
        "        'title': title,\n",
        "        'author': author,\n",
        "        'isbn': isbn,\n",
        "        'available': True,  # New books are available\n",
        "        'category': category,\n",
        "        'year': year\n",
        "    }\n",
        "\n",
        "    print(f\"✅ Successfully added: '{title}' by {author}\")\n",
        "    return True\n",
        "\n",
        "# Test the function\n",
        "add_book(library_catalog, 'book_006', 'Data Science with Python',\n",
        "         'Alice Cooper', '978-4567890123', 'Technology', 2024)\n",
        "\n",
        "# Try to add a duplicate (should fail)\n",
        "add_book(library_catalog, 'book_006', 'Another Book', 'Another Author',\n",
        "         '978-9999999999', 'Test')"
      ],
      "execution_count": null,
      "outputs": []
    },
    {
      "cell_type": "markdown",
      "metadata": {
        "id": "SQ3VMaFYbLie"
      },
      "source": [
        "### 1.2 Your Turn: Implement Book Removal\n",
        "\n",
        "Complete this function to remove books from the catalog:"
      ]
    },
    {
      "cell_type": "code",
      "metadata": {
        "id": "mHMXoGYNbLie"
      },
      "source": [
        "def remove_book(catalog, book_id):\n",
        "    \"\"\"\n",
        "    Remove a book from the catalog\n",
        "\n",
        "    Args:\n",
        "        catalog: The library catalog dictionary\n",
        "        book_id: ID of book to remove\n",
        "    \"\"\"\n",
        "    # TODO: Check if book exists using .get()\n",
        "    # TODO: If exists, remove it and print success message\n",
        "    # TODO: If not exists, print error message\n",
        "    # TODO: Return True if successful, False if failed\n",
        "\n",
        "    pass\n",
        "\n",
        "# Test your function\n",
        "print(\"Testing book removal:\")\n",
        "remove_book(library_catalog, 'book_006')  # Should succeed\n",
        "remove_book(library_catalog, 'book_999')  # Should fail gracefully"
      ],
      "execution_count": null,
      "outputs": []
    },
    {
      "cell_type": "markdown",
      "metadata": {
        "id": "4dx4GGnrbLif"
      },
      "source": [
        "**Solution (run after trying above):**"
      ]
    },
    {
      "cell_type": "code",
      "metadata": {
        "id": "vBCO7uqhbLif"
      },
      "source": [
        "def remove_book(catalog, book_id):\n",
        "    \"\"\"Remove a book from the catalog\"\"\"\n",
        "    book = catalog.get(book_id)\n",
        "    if book:\n",
        "        title = book['title']\n",
        "        del catalog[book_id]\n",
        "        print(f\"✅ Successfully removed: '{title}'\")\n",
        "        return True\n",
        "    else:\n",
        "        print(f\"❌ Error: Book ID '{book_id}' not found!\")\n",
        "        return False\n",
        "\n",
        "# Test the corrected function\n",
        "print(\"Testing corrected book removal:\")\n",
        "add_book(library_catalog, 'book_006', 'Test Book', 'Test Author', '123', 'Test')\n",
        "remove_book(library_catalog, 'book_006')"
      ],
      "execution_count": null,
      "outputs": []
    },
    {
      "cell_type": "markdown",
      "metadata": {
        "id": "e2-v_OPDbLif"
      },
      "source": [
        "## Phase 2: Checkout and Return System\n",
        "\n",
        "### 2.1 Checkout System"
      ]
    },
    {
      "cell_type": "code",
      "metadata": {
        "id": "whS3mPzgbLif"
      },
      "source": [
        "def checkout_book(catalog, book_id, borrower_name):\n",
        "    \"\"\"\n",
        "    Check out a book to a borrower\n",
        "\n",
        "    Args:\n",
        "        catalog: The library catalog dictionary\n",
        "        book_id: ID of book to checkout\n",
        "        borrower_name: Name of person checking out the book\n",
        "    \"\"\"\n",
        "    book = catalog.get(book_id)\n",
        "\n",
        "    if not book:\n",
        "        print(f\"❌ Book ID '{book_id}' not found!\")\n",
        "        return False\n",
        "\n",
        "    if not book['available']:\n",
        "        print(f\"❌ '{book['title']}' is already checked out!\")\n",
        "        return False\n",
        "\n",
        "    # Update book status\n",
        "    book['available'] = False\n",
        "    book['borrower'] = borrower_name\n",
        "\n",
        "    print(f\"✅ '{book['title']}' checked out to {borrower_name}\")\n",
        "    return True\n",
        "\n",
        "# Test checkout\n",
        "checkout_book(library_catalog, 'book_001', 'Alice Student')\n",
        "checkout_book(library_catalog, 'book_001', 'Bob Student')  # Should fail"
      ],
      "execution_count": null,
      "outputs": []
    },
    {
      "cell_type": "markdown",
      "metadata": {
        "id": "FILNH2XDbLig"
      },
      "source": [
        "### 2.2 Your Turn: Implement Return System\n",
        "\n",
        "Complete the return function:"
      ]
    },
    {
      "cell_type": "code",
      "metadata": {
        "id": "Zst16p99bLig"
      },
      "source": [
        "def return_book(catalog, book_id):\n",
        "    \"\"\"\n",
        "    Return a checked-out book\n",
        "\n",
        "    Args:\n",
        "        catalog: The library catalog dictionary\n",
        "        book_id: ID of book to return\n",
        "    \"\"\"\n",
        "    # TODO: Check if book exists\n",
        "    # TODO: Check if book is actually checked out\n",
        "    # TODO: Mark as available and remove borrower info\n",
        "    # TODO: Print appropriate messages\n",
        "    # TODO: Return success/failure status\n",
        "\n",
        "    pass\n",
        "\n",
        "# Test your function\n",
        "return_book(library_catalog, 'book_001')  # Should succeed\n",
        "return_book(library_catalog, 'book_003')  # Should handle \"not checked out\" case"
      ],
      "execution_count": null,
      "outputs": []
    },
    {
      "cell_type": "markdown",
      "metadata": {
        "id": "I7X_bThYbLig"
      },
      "source": [
        "**Solution:**"
      ]
    },
    {
      "cell_type": "code",
      "metadata": {
        "id": "gHLnhPGzbLig"
      },
      "source": [
        "def return_book(catalog, book_id):\n",
        "    \"\"\"Return a checked-out book\"\"\"\n",
        "    book = catalog.get(book_id)\n",
        "\n",
        "    if not book:\n",
        "        print(f\"❌ Book ID '{book_id}' not found!\")\n",
        "        return False\n",
        "\n",
        "    if book['available']:\n",
        "        print(f\"❌ '{book['title']}' was not checked out!\")\n",
        "        return False\n",
        "\n",
        "    # Return the book\n",
        "    borrower = book.get('borrower', 'Unknown')\n",
        "    book['available'] = True\n",
        "    if 'borrower' in book:\n",
        "        del book['borrower']\n",
        "\n",
        "    print(f\"✅ '{book['title']}' returned by {borrower}\")\n",
        "    return True\n",
        "\n",
        "# Test the solution\n",
        "return_book(library_catalog, 'book_001')\n",
        "return_book(library_catalog, 'book_003')"
      ],
      "execution_count": null,
      "outputs": []
    },
    {
      "cell_type": "markdown",
      "metadata": {
        "id": "BF83uGTGbLih"
      },
      "source": [
        "## Phase 3: Search and Analysis Functions\n",
        "\n",
        "### 3.1 Advanced Search Function"
      ]
    },
    {
      "cell_type": "code",
      "metadata": {
        "id": "Ld1KdHLNbLih"
      },
      "source": [
        "def search_books(catalog, search_term, search_fields=['title', 'author']):\n",
        "    \"\"\"\n",
        "    Search for books by multiple criteria\n",
        "\n",
        "    Args:\n",
        "        catalog: The library catalog dictionary\n",
        "        search_term: Term to search for\n",
        "        search_fields: Fields to search in (default: title and author)\n",
        "\n",
        "    Returns:\n",
        "        List of matching book information\n",
        "    \"\"\"\n",
        "    matches = []\n",
        "    search_lower = search_term.lower()\n",
        "\n",
        "    for book_id, book_info in catalog.items():\n",
        "        # Check each specified field\n",
        "        for field in search_fields:\n",
        "            if field in book_info and search_lower in str(book_info[field]).lower():\n",
        "                match_info = {\n",
        "                    'id': book_id,\n",
        "                    'title': book_info['title'],\n",
        "                    'author': book_info['author'],\n",
        "                    'category': book_info['category'],\n",
        "                    'available': book_info['available']\n",
        "                }\n",
        "                matches.append(match_info)\n",
        "                break  # Don't add the same book multiple times\n",
        "\n",
        "    return matches\n",
        "\n",
        "# Test the search function\n",
        "print(\"=== Search Results ===\")\n",
        "results = search_books(library_catalog, 'python')\n",
        "for book in results:\n",
        "    status = \"✅ Available\" if book['available'] else \"❌ Checked out\"\n",
        "    print(f\"- {book['title']} by {book['author']} ({status})\")\n",
        "\n",
        "print(\"\\nSearch by category:\")\n",
        "results = search_books(library_catalog, 'technology', ['category'])\n",
        "for book in results:\n",
        "    status = \"✅ Available\" if book['available'] else \"❌ Checked out\"\n",
        "    print(f\"- {book['title']} ({status})\")"
      ],
      "execution_count": null,
      "outputs": []
    },
    {
      "cell_type": "markdown",
      "metadata": {
        "id": "DKwEJymUbLih"
      },
      "source": [
        "### 3.2 Your Turn: Books by Category Function\n",
        "\n",
        "Create a function that groups books by category:"
      ]
    },
    {
      "cell_type": "code",
      "metadata": {
        "id": "9tTwWzvKbLii"
      },
      "source": [
        "def books_by_category(catalog):\n",
        "    \"\"\"\n",
        "    Group books by category\n",
        "\n",
        "    Returns:\n",
        "        Dictionary with categories as keys and book lists as values\n",
        "    \"\"\"\n",
        "    # TODO: Create empty dictionary to store results\n",
        "    # TODO: Loop through catalog and group by category\n",
        "    # TODO: Return the grouped results\n",
        "\n",
        "    pass\n",
        "\n",
        "# Test your function\n",
        "categories = books_by_category(library_catalog)\n",
        "for category, books in categories.items():\n",
        "    print(f\"\\n{category} ({len(books)} books):\")\n",
        "    for book in books:\n",
        "        print(f\"  - {book}\")"
      ],
      "execution_count": null,
      "outputs": []
    },
    {
      "cell_type": "markdown",
      "metadata": {
        "id": "kufKoJzHbLii"
      },
      "source": [
        "**Solution:**"
      ]
    },
    {
      "cell_type": "code",
      "metadata": {
        "id": "kGvCAxnibLii"
      },
      "source": [
        "def books_by_category(catalog):\n",
        "    \"\"\"Group books by category\"\"\"\n",
        "    categories = {}\n",
        "\n",
        "    for book_info in catalog.values():\n",
        "        category = book_info['category']\n",
        "        if category not in categories:\n",
        "            categories[category] = []\n",
        "        categories[category].append(book_info['title'])\n",
        "\n",
        "    return categories\n",
        "\n",
        "# Test the solution\n",
        "print(\"=== Books by Category ===\")\n",
        "categories = books_by_category(library_catalog)\n",
        "for category, books in categories.items():\n",
        "    print(f\"\\n{category} ({len(books)} books):\")\n",
        "    for book in books:\n",
        "        print(f\"  - {book}\")"
      ],
      "execution_count": null,
      "outputs": []
    },
    {
      "cell_type": "markdown",
      "metadata": {
        "id": "_pbZJV6CbLii"
      },
      "source": [
        "## Phase 4: Comprehensive Reports\n",
        "\n",
        "### 4.1 Availability Report"
      ]
    },
    {
      "cell_type": "code",
      "metadata": {
        "id": "6QmxaxG0bLij"
      },
      "source": [
        "def generate_availability_report(catalog):\n",
        "    \"\"\"Generate detailed availability report\"\"\"\n",
        "    available_books = []\n",
        "    checked_out_books = []\n",
        "\n",
        "    for book_id, book_info in catalog.items():\n",
        "        book_summary = {\n",
        "            'id': book_id,\n",
        "            'title': book_info['title'],\n",
        "            'author': book_info['author'],\n",
        "            'category': book_info['category']\n",
        "        }\n",
        "\n",
        "        if book_info['available']:\n",
        "            available_books.append(book_summary)\n",
        "        else:\n",
        "            book_summary['borrower'] = book_info.get('borrower', 'Unknown')\n",
        "            checked_out_books.append(book_summary)\n",
        "\n",
        "    print(\"=\" * 50)\n",
        "    print(\"LIBRARY AVAILABILITY REPORT\")\n",
        "    print(\"=\" * 50)\n",
        "\n",
        "    print(f\"\\n📚 AVAILABLE BOOKS ({len(available_books)}):\")\n",
        "    for book in available_books:\n",
        "        print(f\"  ✅ [{book['id']}] {book['title']} - {book['author']} ({book['category']})\")\n",
        "\n",
        "    print(f\"\\n🔒 CHECKED OUT BOOKS ({len(checked_out_books)}):\")\n",
        "    for book in checked_out_books:\n",
        "        borrower = book.get('borrower', 'Unknown')\n",
        "        print(f\"  ❌ [{book['id']}] {book['title']} - {book['author']} → {borrower}\")\n",
        "\n",
        "    print(f\"\\n📊 SUMMARY:\")\n",
        "    total = len(catalog)\n",
        "    print(f\"  Total books: {total}\")\n",
        "    print(f\"  Available: {len(available_books)} ({len(available_books)/total*100:.1f}%)\")\n",
        "    print(f\"  Checked out: {len(checked_out_books)} ({len(checked_out_books)/total*100:.1f}%)\")\n",
        "\n",
        "# Generate the report\n",
        "generate_availability_report(library_catalog)"
      ],
      "execution_count": null,
      "outputs": []
    },
    {
      "cell_type": "markdown",
      "metadata": {
        "id": "16PpKsjYbLij"
      },
      "source": [
        "### 4.2 Category Statistics"
      ]
    },
    {
      "cell_type": "code",
      "metadata": {
        "id": "0zGjnGgBbLij"
      },
      "source": [
        "def category_statistics(catalog):\n",
        "    \"\"\"Generate statistics by category\"\"\"\n",
        "    stats = {}\n",
        "\n",
        "    for book_info in catalog.values():\n",
        "        category = book_info['category']\n",
        "        if category not in stats:\n",
        "            stats[category] = {\n",
        "                'total': 0,\n",
        "                'available': 0,\n",
        "                'checked_out': 0,\n",
        "                'newest_year': 0\n",
        "            }\n",
        "\n",
        "        stats[category]['total'] += 1\n",
        "        if book_info['available']:\n",
        "            stats[category]['available'] += 1\n",
        "        else:\n",
        "            stats[category]['checked_out'] += 1\n",
        "\n",
        "        # Track newest publication year\n",
        "        year = book_info.get('year', 0)\n",
        "        if year > stats[category]['newest_year']:\n",
        "            stats[category]['newest_year'] = year\n",
        "\n",
        "    print(\"=\" * 50)\n",
        "    print(\"CATEGORY STATISTICS REPORT\")\n",
        "    print(\"=\" * 50)\n",
        "\n",
        "    for category, data in stats.items():\n",
        "        availability_rate = (data['available'] / data['total']) * 100\n",
        "        print(f\"\\n📖 {category.upper()}\")\n",
        "        print(f\"  Total books: {data['total']}\")\n",
        "        print(f\"  Available: {data['available']} ({availability_rate:.1f}%)\")\n",
        "        print(f\"  Checked out: {data['checked_out']}\")\n",
        "        print(f\"  Newest publication: {data['newest_year']}\")\n",
        "\n",
        "# Generate category statistics\n",
        "category_statistics(library_catalog)"
      ],
      "execution_count": null,
      "outputs": []
    },
    {
      "cell_type": "markdown",
      "metadata": {
        "id": "hWf84AgtbLij"
      },
      "source": [
        "## Phase 5: Interactive System Demo\n",
        "\n",
        "### 5.1 Simple Menu System"
      ]
    },
    {
      "cell_type": "code",
      "metadata": {
        "id": "nJqy0qvIbLij"
      },
      "source": [
        "def display_menu():\n",
        "    \"\"\"Display the main menu options\"\"\"\n",
        "    print(\"\\n\" + \"=\" * 40)\n",
        "    print(\"LIBRARY MANAGEMENT SYSTEM\")\n",
        "    print(\"=\" * 40)\n",
        "    print(\"1. Add new book\")\n",
        "    print(\"2. Search books\")\n",
        "    print(\"3. Check out book\")\n",
        "    print(\"4. Return book\")\n",
        "    print(\"5. Availability report\")\n",
        "    print(\"6. Category statistics\")\n",
        "    print(\"7. Exit\")\n",
        "    print(\"-\" * 40)\n",
        "\n",
        "# Demo the menu (in a real system, this would be in a loop)\n",
        "display_menu()"
      ],
      "execution_count": null,
      "outputs": []
    },
    {
      "cell_type": "markdown",
      "metadata": {
        "id": "4h8VyjjcbLik"
      },
      "source": [
        "### 5.2 Your Turn: Complete Integration Test\n",
        "\n",
        "Test all your functions together:"
      ]
    },
    {
      "cell_type": "code",
      "metadata": {
        "id": "jU9T653sbLik"
      },
      "source": [
        "print(\"=== INTEGRATION TEST ===\")\n",
        "\n",
        "# Test 1: Add a new book\n",
        "print(\"\\n1. Adding new book...\")\n",
        "add_book(library_catalog, 'book_007', 'Machine Learning Basics',\n",
        "         'Dr. Smith', '978-7890123456', 'Technology', 2024)\n",
        "\n",
        "# Test 2: Search for the new book\n",
        "print(\"\\n2. Searching for machine learning books...\")\n",
        "results = search_books(library_catalog, 'machine learning')\n",
        "for book in results:\n",
        "    print(f\"Found: {book['title']} by {book['author']}\")\n",
        "\n",
        "# Test 3: Check out the book\n",
        "print(\"\\n3. Checking out book...\")\n",
        "checkout_book(library_catalog, 'book_007', 'Test Student')\n",
        "\n",
        "# Test 4: Generate availability report\n",
        "print(\"\\n4. Current availability:\")\n",
        "generate_availability_report(library_catalog)\n",
        "\n",
        "# Test 5: Return the book\n",
        "print(\"\\n5. Returning book...\")\n",
        "return_book(library_catalog, 'book_007')\n",
        "\n",
        "print(\"\\n✅ Integration test completed successfully!\")"
      ],
      "execution_count": null,
      "outputs": []
    },
    {
      "cell_type": "markdown",
      "metadata": {
        "id": "hnk5PBTRbLik"
      },
      "source": [
        "## 🎯 Workshop Summary\n",
        "\n",
        "### What You've Accomplished\n",
        "\n",
        "Through this workshop, you've built a complete library management system with:\n",
        "\n",
        "✅ **CRUD Operations**: Create, Read, Update, Delete books  \n",
        "✅ **Safe Dictionary Access**: Using `.get()` to prevent errors  \n",
        "✅ **Dictionary Methods**: Applied `.keys()`, `.values()`, `.items()`  \n",
        "✅ **Error Handling**: Graceful handling of missing books and invalid operations  \n",
        "✅ **Data Analysis**: Generated reports and statistics  \n",
        "✅ **Real-World Application**: Practical system that could actually be used  \n",
        "\n",
        "### Key Dictionary Concepts Reinforced\n",
        "\n",
        "1. **Nested Dictionary Structures**: Organized complex data hierarchically\n",
        "2. **Dictionary Methods**: Used appropriate methods for different tasks\n",
        "3. **Dynamic Updates**: Modified dictionary contents during runtime\n",
        "4. **Safe Access Patterns**: Prevented KeyError exceptions\n",
        "5. **Data Aggregation**: Grouped and analyzed dictionary data\n",
        "\n",
        "## 🚀 Preparing for Your Mini-Project\n",
        "\n",
        "The skills you've practiced here directly apply to your mini-project:\n",
        "\n",
        "| Library System | Finance Tracker |\n",
        "|----------------|-----------------|\n",
        "| Book catalog | Expense records |\n",
        "| Book checkout/return | Add/edit expenses |\n",
        "| Search books | Find expenses by category |\n",
        "| Category reports | Budget analysis |\n",
        "| Availability status | Spending summaries |\n",
        "\n",
        "### Mini-Project Success Tips\n",
        "\n",
        "1. **Start with Data Structure**: Plan your dictionary structure before coding\n",
        "2. **Use Safe Access**: Always use `.get()` when keys might not exist\n",
        "3. **Group Related Data**: Put related information together in nested dictionaries\n",
        "4. **Apply Dictionary Methods**: Use `.items()`, `.values()`, `.keys()` appropriately\n",
        "5. **Handle Edge Cases**: What happens if data is missing or invalid?\n",
        "\n",
        "## 📝 Reflection Questions\n",
        "\n",
        "1. How did using dictionaries make the library system more organized than lists would have?\n",
        "2. Which dictionary methods were most useful for analysis and reporting?\n",
        "3. How will you apply these patterns to your finance tracker project?\n",
        "4. What additional features could you add using dictionary concepts?\n",
        "\n",
        "## 🎓 Next Steps\n",
        "\n",
        "You're now ready to tackle your mini-project! You can choose between:\n",
        "\n",
        "- **Pathway A**: Transform your Week 5 list-based finance tracker to use dictionaries\n",
        "- **Pathway B**: Build a fresh dictionary-based finance tracker from scratch\n",
        "\n",
        "Either way, you have the dictionary skills needed to create an impressive financial management system.\n",
        "\n",
        "**Good luck with your mini-project!** 🎉"
      ]
    }
  ],
  "metadata": {
    "kernelspec": {
      "display_name": "Python 3",
      "language": "python",
      "name": "python3"
    },
    "colab": {
      "provenance": [],
      "include_colab_link": true
    }
  },
  "nbformat": 4,
  "nbformat_minor": 0
}